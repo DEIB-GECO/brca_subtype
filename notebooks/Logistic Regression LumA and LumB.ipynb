{
 "cells": [
  {
   "cell_type": "markdown",
   "metadata": {},
   "source": [
    "# Logistic Regression on BRCA subset of the TCGA dataset (only with LumA and LumB)\n",
    "#### Using Logistic Regression for breast cancer subtype classification"
   ]
  },
  {
   "cell_type": "code",
   "execution_count": 1,
   "metadata": {},
   "outputs": [],
   "source": [
    "import pandas as pd\n",
    "import numpy as np\n",
    "\n",
    "from sklearn.preprocessing import MinMaxScaler, StandardScaler\n",
    "from sklearn.model_selection import train_test_split, StratifiedKFold\n",
    "from sklearn.linear_model import LogisticRegression\n",
    "from sklearn.feature_selection import VarianceThreshold, SelectKBest, chi2, mutual_info_classif\n",
    "from sklearn.model_selection import cross_val_score\n",
    "from sklearn.metrics import confusion_matrix\n",
    "\n",
    "import seaborn as sn\n",
    "import matplotlib.pyplot as plt"
   ]
  },
  {
   "cell_type": "markdown",
   "metadata": {},
   "source": [
    "## Load and split the dataset"
   ]
  },
  {
   "cell_type": "code",
   "execution_count": 3,
   "metadata": {},
   "outputs": [],
   "source": [
    "# Training set\n",
    "X_train = pd.read_csv(\"data/ciriello_brca_filtered.csv\")\n",
    "X_train = X_train[(X_train.Ciriello_subtype != \"Normal\") & \n",
    "                  (X_train.Ciriello_subtype != \"Her2\") & \n",
    "                  (X_train.Ciriello_subtype != \"Basal\")]\n",
    "y_train = X_train[\"Ciriello_subtype\"]\n",
    "\n",
    "X_train.drop(['Ciriello_subtype'], axis=\"columns\", inplace=True)\n",
    "\n",
    "# Final test set\n",
    "X_test = pd.read_csv(\"data/brca_final_test.csv\")\n",
    "X_test = X_test[(X_test.subtype != \"Normal\") & \n",
    "                (X_test.subtype != \"Her2\") &\n",
    "                 (X_test.subtype != \"Basal\")]\n",
    "y_test = X_test[\"subtype\"]\n",
    "\n",
    "X_test.drop(['subtype'], axis=\"columns\", inplace=True)\n",
    "\n",
    "# Order the features correctly\n",
    "\n",
    "X_train = X_train.reindex(sorted(X_train.columns), axis=\"columns\")\n",
    "X_test = X_test.reindex(sorted(X_test.columns), axis=\"columns\")"
   ]
  },
  {
   "cell_type": "markdown",
   "metadata": {},
   "source": [
    "### Scale the data"
   ]
  },
  {
   "cell_type": "code",
   "execution_count": 4,
   "metadata": {},
   "outputs": [],
   "source": [
    "scaler = MinMaxScaler()\n",
    "scaler.fit(X_train)\n",
    "X_train_scaled = pd.DataFrame(scaler.transform(X_train), columns=X_train.columns)\n",
    "X_test_scaled = pd.DataFrame(scaler.transform(X_test), columns=X_test.columns)"
   ]
  },
  {
   "cell_type": "markdown",
   "metadata": {},
   "source": [
    "## Code to tune parameter C"
   ]
  },
  {
   "cell_type": "code",
   "execution_count": 5,
   "metadata": {},
   "outputs": [
    {
     "name": "stdout",
     "output_type": "stream",
     "text": [
      "Iteration 1/2 of 5-Fold Cross-Validation\n",
      "Results: [0.6974789915966386, 0.7033898305084746, 0.7033898305084746, 0.7033898305084746, 0.7033898305084746]\n",
      "C: 0.001, Accuracy: 0.7022076627261074\n",
      "Results: [0.6974789915966386, 0.7033898305084746, 0.7033898305084746, 0.7033898305084746, 0.7033898305084746]\n",
      "C: 0.01, Accuracy: 0.7022076627261074\n",
      "Results: [0.8067226890756303, 0.788135593220339, 0.8898305084745762, 0.9067796610169492, 0.8559322033898306]\n",
      "C: 0.1, Accuracy: 0.8494801310354649\n",
      "Results: [0.907563025210084, 0.847457627118644, 0.8983050847457628, 0.940677966101695, 0.8898305084745762]\n",
      "C: 1, Accuracy: 0.8967668423301525\n",
      "Results: [0.9243697478991597, 0.8559322033898306, 0.8898305084745762, 0.9152542372881356, 0.8983050847457628]\n",
      "C: 10, Accuracy: 0.8967383563594931\n",
      "Results: [0.9243697478991597, 0.8813559322033898, 0.9067796610169492, 0.9152542372881356, 0.923728813559322]\n",
      "C: 100, Accuracy: 0.9102976783933914\n",
      "Results: [0.907563025210084, 0.8728813559322034, 0.923728813559322, 0.9152542372881356, 0.8898305084745762]\n",
      "C: 1000, Accuracy: 0.9018515880928643\n",
      "Results: [0.8739495798319328, 0.8559322033898306, 0.923728813559322, 0.8898305084745762, 0.864406779661017]\n",
      "C: 10000, Accuracy: 0.8815695769833358\n",
      "Iteration 2/2 of 5-Fold Cross-Validation\n",
      "Results: [0.6974789915966386, 0.7033898305084746, 0.7033898305084746, 0.7033898305084746, 0.7033898305084746]\n",
      "C: 0.001, Accuracy: 0.7022076627261074\n",
      "Results: [0.6974789915966386, 0.7033898305084746, 0.7033898305084746, 0.7033898305084746, 0.7033898305084746]\n",
      "C: 0.01, Accuracy: 0.7022076627261074\n",
      "Results: [0.8067226890756303, 0.788135593220339, 0.8898305084745762, 0.9067796610169492, 0.8559322033898306]\n",
      "C: 0.1, Accuracy: 0.8494801310354649\n",
      "Results: [0.907563025210084, 0.847457627118644, 0.8983050847457628, 0.940677966101695, 0.8898305084745762]\n",
      "C: 1, Accuracy: 0.8967668423301525\n",
      "Results: [0.9243697478991597, 0.8559322033898306, 0.8898305084745762, 0.9152542372881356, 0.8983050847457628]\n",
      "C: 10, Accuracy: 0.8967383563594931\n",
      "Results: [0.9243697478991597, 0.8813559322033898, 0.9067796610169492, 0.9152542372881356, 0.923728813559322]\n",
      "C: 100, Accuracy: 0.9102976783933914\n",
      "Results: [0.907563025210084, 0.8728813559322034, 0.923728813559322, 0.9152542372881356, 0.8898305084745762]\n",
      "C: 1000, Accuracy: 0.9018515880928643\n",
      "Results: [0.8739495798319328, 0.8559322033898306, 0.923728813559322, 0.8898305084745762, 0.864406779661017]\n",
      "C: 10000, Accuracy: 0.8815695769833358\n"
     ]
    },
    {
     "data": {
      "text/plain": [
       "[0.7022076627261074,\n",
       " 0.7022076627261074,\n",
       " 0.8494801310354649,\n",
       " 0.8967668423301525,\n",
       " 0.8967383563594931,\n",
       " 0.9102976783933914,\n",
       " 0.9018515880928643,\n",
       " 0.8815695769833358,\n",
       " 0.7022076627261074,\n",
       " 0.7022076627261074,\n",
       " 0.8494801310354649,\n",
       " 0.8967668423301525,\n",
       " 0.8967383563594931,\n",
       " 0.9102976783933914,\n",
       " 0.9018515880928643,\n",
       " 0.8815695769833358]"
      ]
     },
     "execution_count": 5,
     "metadata": {},
     "output_type": "execute_result"
    }
   ],
   "source": [
    "values=[0.001, 0.01, 0.1, 1, 10, 100, 1000, 10000]\n",
    "i=1\n",
    "results = pd.DataFrame(columns=[\"Index\", \"C\", \"Accuracy\"])\n",
    "mean_scores = []\n",
    "\n",
    "for it in range(2):\n",
    "    print('Iteration {}/2 of 5-Fold Cross-Validation'.format(it+1))\n",
    "    skf = StratifiedKFold(n_splits=5)\n",
    "    for c in values:\n",
    "        scores = []\n",
    "\n",
    "        for train_index, test_index in skf.split(X_train_scaled, y_train):\n",
    "\n",
    "            X_cv_train, X_cv_val = X_train_scaled.iloc[train_index], X_train_scaled.iloc[test_index]\n",
    "            y_cv_train, y_cv_val = y_train.iloc[train_index], y_train.iloc[test_index]\n",
    "\n",
    "            clf = LogisticRegression(random_state=0, solver='liblinear', penalty=\"l1\", C=c, multi_class=\"auto\").fit(X_cv_train, y_cv_train)\n",
    "\n",
    "            score = clf.score(X_cv_val, y_cv_val)\n",
    "            results = results.append({'Fold': i, 'C' : c , 'Score' : score}, ignore_index=True)\n",
    "            scores.append(score)\n",
    "            i+=1\n",
    "\n",
    "        i=1\n",
    "        mean_scores.append(np.mean(scores))\n",
    "        print('Results: {}'.format(scores))\n",
    "        print('C: {}, Accuracy: {}'.format(c, np.mean(scores)))\n",
    "        \n",
    "#results.to_csv(\"parameter_tuning/logisticRegression_C_tuning_.csv\", index=False)\n",
    "mean_scores"
   ]
  },
  {
   "cell_type": "markdown",
   "metadata": {},
   "source": [
    "### We can see that C=100 is the best parameter, hence why we'll use it to test our model"
   ]
  },
  {
   "cell_type": "code",
   "execution_count": 6,
   "metadata": {},
   "outputs": [],
   "source": [
    "clf = LogisticRegression(random_state=0, solver='liblinear', penalty=\"l1\", C=100, multi_class=\"auto\").fit(X_train, y_train)"
   ]
  },
  {
   "cell_type": "code",
   "execution_count": 7,
   "metadata": {
    "scrolled": true
   },
   "outputs": [
    {
     "name": "stdout",
     "output_type": "stream",
     "text": [
      "Confusion matrix\n",
      " [[120  11]\n",
      " [  3  29]]\n",
      "Accuracy 0.9141104294478528\n"
     ]
    }
   ],
   "source": [
    "final_score = clf.score(X_test_scaled, y_test)\n",
    "print('Confusion matrix\\n', confusion_matrix(y_test, clf.predict(X_test_scaled)))\n",
    "print('Accuracy', final_score)"
   ]
  },
  {
   "cell_type": "code",
   "execution_count": 10,
   "metadata": {},
   "outputs": [
    {
     "data": {
      "image/png": "[encoded data removed]",
      "text/plain": [
       "<Figure size 648x432 with 2 Axes>"
      ]
     },
     "metadata": {
      "needs_background": "light"
     },
     "output_type": "display_data"
    }
   ],
   "source": [
    "#How do I know the order of the labels???\n",
    "import matplotlib.pyplot as plt\n",
    "conf_matrix = pd.DataFrame(confusion_matrix(y_test, clf.predict(X_test_scaled)), index = [\"LumA\", \"LumB\"], columns = [\"LumA\", \"LumB\"])\n",
    "plt.figure(figsize=(9, 6))\n",
    "sn.heatmap(conf_matrix, annot=True, fmt='g')\n",
    "#conf_matrix.to_csv(\"results/tcga_log_res_confusion_matrix.csv\")"
   ]
  },
  {
   "cell_type": "markdown",
   "metadata": {},
   "source": [
    "# Let's try to use the 5k more \"influential\""
   ]
  },
  {
   "cell_type": "markdown",
   "metadata": {},
   "source": [
    "## With mutual_info_classif"
   ]
  },
  {
   "cell_type": "code",
   "execution_count": 11,
   "metadata": {},
   "outputs": [],
   "source": [
    "selector = SelectKBest(mutual_info_classif, k=5000).fit(X_train_scaled, y_train)\n",
    "relevant_idx = selector.get_support()\n",
    "relevant_genes = X_train_scaled.columns[relevant_idx]"
   ]
  },
  {
   "cell_type": "markdown",
   "metadata": {},
   "source": [
    "### Load and split the dataset"
   ]
  },
  {
   "cell_type": "code",
   "execution_count": 12,
   "metadata": {},
   "outputs": [],
   "source": [
    "X_train_relevant = X_train_scaled[relevant_genes]\n",
    "X_test_relevant = X_test_scaled[relevant_genes]"
   ]
  },
  {
   "cell_type": "markdown",
   "metadata": {},
   "source": [
    "### Tune parameter C"
   ]
  },
  {
   "cell_type": "code",
   "execution_count": 13,
   "metadata": {},
   "outputs": [
    {
     "name": "stdout",
     "output_type": "stream",
     "text": [
      "5-Fold results: [0.6974789915966386, 0.7033898305084746, 0.7033898305084746, 0.7033898305084746, 0.7033898305084746]\n",
      "C: 0.001, Accuracy: 0.7022076627261074\n",
      "5-Fold results: [0.6974789915966386, 0.7033898305084746, 0.7033898305084746, 0.7033898305084746, 0.7033898305084746]\n",
      "C: 0.01, Accuracy: 0.7022076627261074\n",
      "5-Fold results: [0.8067226890756303, 0.7796610169491526, 0.8983050847457628, 0.9152542372881356, 0.8983050847457628]\n",
      "C: 0.1, Accuracy: 0.8596496225608888\n",
      "5-Fold results: [0.8991596638655462, 0.864406779661017, 0.8898305084745762, 0.940677966101695, 0.8983050847457628]\n",
      "C: 1, Accuracy: 0.8984760005697195\n",
      "5-Fold results: [0.8991596638655462, 0.8305084745762712, 0.923728813559322, 0.940677966101695, 0.9152542372881356]\n",
      "C: 10, Accuracy: 0.901865831078194\n",
      "5-Fold results: [0.8907563025210085, 0.864406779661017, 0.9067796610169492, 0.9491525423728814, 0.9152542372881356]\n",
      "C: 100, Accuracy: 0.9052699045719983\n",
      "5-Fold results: [0.8991596638655462, 0.8983050847457628, 0.9152542372881356, 0.940677966101695, 0.9152542372881356]\n",
      "C: 1000, Accuracy: 0.913730237857855\n",
      "5-Fold results: [0.8739495798319328, 0.8898305084745762, 0.8983050847457628, 0.9152542372881356, 0.9152542372881356]\n",
      "C: 10000, Accuracy: 0.8985187295257087\n"
     ]
    },
    {
     "data": {
      "text/plain": [
       "[0.7022076627261074,\n",
       " 0.7022076627261074,\n",
       " 0.8596496225608888,\n",
       " 0.8984760005697195,\n",
       " 0.901865831078194,\n",
       " 0.9052699045719983,\n",
       " 0.913730237857855,\n",
       " 0.8985187295257087]"
      ]
     },
     "execution_count": 13,
     "metadata": {},
     "output_type": "execute_result"
    }
   ],
   "source": [
    "values=[0.001, 0.01, 0.1, 1, 10, 100, 1000, 10000]\n",
    "i=1\n",
    "results = pd.DataFrame(columns=[\"Index\", \"C\", \"Accuracy\"])\n",
    "mean_scores = []\n",
    "\n",
    "skf = StratifiedKFold(n_splits=5)\n",
    "\n",
    "for c in values:\n",
    "    scores = []\n",
    "    \n",
    "    for train_index, test_index in skf.split(X_train_relevant, y_train):\n",
    "\n",
    "        X_cv_train, X_cv_val = X_train_relevant.iloc[train_index], X_train_relevant.iloc[test_index]\n",
    "        y_cv_train, y_cv_val = y_train.iloc[train_index], y_train.iloc[test_index]\n",
    "\n",
    "        clf = LogisticRegression(random_state=0, solver='liblinear', penalty=\"l1\", C=c, multi_class=\"auto\").fit(X_cv_train, y_cv_train)\n",
    "        \n",
    "        score = clf.score(X_cv_val, y_cv_val)\n",
    "        results = results.append({'Fold': i, 'C' : c , 'Score' : score}, ignore_index=True)\n",
    "        scores.append(score)\n",
    "        i+=1\n",
    "        \n",
    "    i=1\n",
    "    mean_scores.append(np.mean(scores))\n",
    "    print('5-Fold results: {}'.format(scores))\n",
    "    print('C: {}, Accuracy: {}'.format(c, np.mean(scores)))\n",
    "        \n",
    "#results.to_csv(\"parameter_tuning/logisticRegression_C_tuning_5k_mutual_info.csv\", index=False)\n",
    "mean_scores"
   ]
  },
  {
   "cell_type": "markdown",
   "metadata": {},
   "source": [
    "### Train the Model"
   ]
  },
  {
   "cell_type": "code",
   "execution_count": 14,
   "metadata": {},
   "outputs": [],
   "source": [
    "clf_5k = LogisticRegression(random_state=0, solver='liblinear', penalty=\"l1\", C=1000, multi_class=\"auto\").fit(X_train_relevant, y_train)"
   ]
  },
  {
   "cell_type": "code",
   "execution_count": 15,
   "metadata": {},
   "outputs": [
    {
     "name": "stdout",
     "output_type": "stream",
     "text": [
      "Confusion matrix\n",
      " [[104  27]\n",
      " [  1  31]]\n",
      "Accuracy 0.8282208588957055\n"
     ]
    }
   ],
   "source": [
    "final_score = clf.score(X_test_relevant, y_test)\n",
    "print('Confusion matrix\\n', confusion_matrix(y_test, clf.predict(X_test_relevant)))\n",
    "print('Accuracy', final_score)"
   ]
  },
  {
   "cell_type": "code",
   "execution_count": 16,
   "metadata": {},
   "outputs": [
    {
     "ename": "ValueError",
     "evalue": "Shape of passed values is (2, 2), indices imply (4, 4)",
     "output_type": "error",
     "traceback": [
      "\u001b[0;31m---------------------------------------------------------------------------\u001b[0m",
      "\u001b[0;31mValueError\u001b[0m                                Traceback (most recent call last)",
      "\u001b[0;32m~/miniconda3/lib/python3.6/site-packages/pandas/core/internals/managers.py\u001b[0m in \u001b[0;36mcreate_block_manager_from_blocks\u001b[0;34m(blocks, axes)\u001b[0m\n\u001b[1;32m   1650\u001b[0m                 blocks = [make_block(values=blocks[0],\n\u001b[0;32m-> 1651\u001b[0;31m                                      placement=slice(0, len(axes[0])))]\n\u001b[0m\u001b[1;32m   1652\u001b[0m \u001b[0;34m\u001b[0m\u001b[0m\n",
      "\u001b[0;32m~/miniconda3/lib/python3.6/site-packages/pandas/core/internals/blocks.py\u001b[0m in \u001b[0;36mmake_block\u001b[0;34m(values, placement, klass, ndim, dtype, fastpath)\u001b[0m\n\u001b[1;32m   3094\u001b[0m \u001b[0;34m\u001b[0m\u001b[0m\n\u001b[0;32m-> 3095\u001b[0;31m     \u001b[0;32mreturn\u001b[0m \u001b[0mklass\u001b[0m\u001b[0;34m(\u001b[0m\u001b[0mvalues\u001b[0m\u001b[0;34m,\u001b[0m \u001b[0mndim\u001b[0m\u001b[0;34m=\u001b[0m\u001b[0mndim\u001b[0m\u001b[0;34m,\u001b[0m \u001b[0mplacement\u001b[0m\u001b[0;34m=\u001b[0m\u001b[0mplacement\u001b[0m\u001b[0;34m)\u001b[0m\u001b[0;34m\u001b[0m\u001b[0;34m\u001b[0m\u001b[0m\n\u001b[0m\u001b[1;32m   3096\u001b[0m \u001b[0;34m\u001b[0m\u001b[0m\n",
      "\u001b[0;32m~/miniconda3/lib/python3.6/site-packages/pandas/core/internals/blocks.py\u001b[0m in \u001b[0;36m__init__\u001b[0;34m(self, values, placement, ndim)\u001b[0m\n\u001b[1;32m     86\u001b[0m                 \u001b[0;34m'Wrong number of items passed {val}, placement implies '\u001b[0m\u001b[0;34m\u001b[0m\u001b[0;34m\u001b[0m\u001b[0m\n\u001b[0;32m---> 87\u001b[0;31m                 '{mgr}'.format(val=len(self.values), mgr=len(self.mgr_locs)))\n\u001b[0m\u001b[1;32m     88\u001b[0m \u001b[0;34m\u001b[0m\u001b[0m\n",
      "\u001b[0;31mValueError\u001b[0m: Wrong number of items passed 2, placement implies 4",
      "\nDuring handling of the above exception, another exception occurred:\n",
      "\u001b[0;31mValueError\u001b[0m                                Traceback (most recent call last)",
      "\u001b[0;32m<ipython-input-16-2a7cc63079b0>\u001b[0m in \u001b[0;36m<module>\u001b[0;34m\u001b[0m\n\u001b[1;32m      1\u001b[0m \u001b[0;31m#How do I know the order of the labels???\u001b[0m\u001b[0;34m\u001b[0m\u001b[0;34m\u001b[0m\u001b[0;34m\u001b[0m\u001b[0m\n\u001b[1;32m      2\u001b[0m \u001b[0;32mimport\u001b[0m \u001b[0mmatplotlib\u001b[0m\u001b[0;34m.\u001b[0m\u001b[0mpyplot\u001b[0m \u001b[0;32mas\u001b[0m \u001b[0mplt\u001b[0m\u001b[0;34m\u001b[0m\u001b[0;34m\u001b[0m\u001b[0m\n\u001b[0;32m----> 3\u001b[0;31m \u001b[0mconf_matrix\u001b[0m \u001b[0;34m=\u001b[0m \u001b[0mpd\u001b[0m\u001b[0;34m.\u001b[0m\u001b[0mDataFrame\u001b[0m\u001b[0;34m(\u001b[0m\u001b[0mconfusion_matrix\u001b[0m\u001b[0;34m(\u001b[0m\u001b[0my_test\u001b[0m\u001b[0;34m,\u001b[0m \u001b[0mclf\u001b[0m\u001b[0;34m.\u001b[0m\u001b[0mpredict\u001b[0m\u001b[0;34m(\u001b[0m\u001b[0mX_test_relevant\u001b[0m\u001b[0;34m)\u001b[0m\u001b[0;34m)\u001b[0m\u001b[0;34m,\u001b[0m \u001b[0mindex\u001b[0m \u001b[0;34m=\u001b[0m \u001b[0;34m[\u001b[0m\u001b[0;34m\"Basal\"\u001b[0m\u001b[0;34m,\u001b[0m \u001b[0;34m\"Her2\"\u001b[0m\u001b[0;34m,\u001b[0m \u001b[0;34m\"LumA\"\u001b[0m\u001b[0;34m,\u001b[0m \u001b[0;34m\"LumB\"\u001b[0m\u001b[0;34m]\u001b[0m\u001b[0;34m,\u001b[0m \u001b[0mcolumns\u001b[0m \u001b[0;34m=\u001b[0m \u001b[0;34m[\u001b[0m\u001b[0;34m\"Basal\"\u001b[0m\u001b[0;34m,\u001b[0m \u001b[0;34m\"Her2\"\u001b[0m\u001b[0;34m,\u001b[0m \u001b[0;34m\"LumA\"\u001b[0m\u001b[0;34m,\u001b[0m \u001b[0;34m\"LumB\"\u001b[0m\u001b[0;34m]\u001b[0m\u001b[0;34m)\u001b[0m\u001b[0;34m\u001b[0m\u001b[0;34m\u001b[0m\u001b[0m\n\u001b[0m\u001b[1;32m      4\u001b[0m \u001b[0mplt\u001b[0m\u001b[0;34m.\u001b[0m\u001b[0mfigure\u001b[0m\u001b[0;34m(\u001b[0m\u001b[0mfigsize\u001b[0m\u001b[0;34m=\u001b[0m\u001b[0;34m(\u001b[0m\u001b[0;36m9\u001b[0m\u001b[0;34m,\u001b[0m \u001b[0;36m6\u001b[0m\u001b[0;34m)\u001b[0m\u001b[0;34m)\u001b[0m\u001b[0;34m\u001b[0m\u001b[0;34m\u001b[0m\u001b[0m\n\u001b[1;32m      5\u001b[0m \u001b[0msn\u001b[0m\u001b[0;34m.\u001b[0m\u001b[0mheatmap\u001b[0m\u001b[0;34m(\u001b[0m\u001b[0mconf_matrix\u001b[0m\u001b[0;34m,\u001b[0m \u001b[0mannot\u001b[0m\u001b[0;34m=\u001b[0m\u001b[0;32mTrue\u001b[0m\u001b[0;34m,\u001b[0m \u001b[0mfmt\u001b[0m\u001b[0;34m=\u001b[0m\u001b[0;34m'g'\u001b[0m\u001b[0;34m)\u001b[0m\u001b[0;34m\u001b[0m\u001b[0;34m\u001b[0m\u001b[0m\n",
      "\u001b[0;32m~/miniconda3/lib/python3.6/site-packages/pandas/core/frame.py\u001b[0m in \u001b[0;36m__init__\u001b[0;34m(self, data, index, columns, dtype, copy)\u001b[0m\n\u001b[1;32m    422\u001b[0m             \u001b[0;32melse\u001b[0m\u001b[0;34m:\u001b[0m\u001b[0;34m\u001b[0m\u001b[0;34m\u001b[0m\u001b[0m\n\u001b[1;32m    423\u001b[0m                 mgr = init_ndarray(data, index, columns, dtype=dtype,\n\u001b[0;32m--> 424\u001b[0;31m                                    copy=copy)\n\u001b[0m\u001b[1;32m    425\u001b[0m \u001b[0;34m\u001b[0m\u001b[0m\n\u001b[1;32m    426\u001b[0m         \u001b[0;31m# For data is list-like, or Iterable (will consume into list)\u001b[0m\u001b[0;34m\u001b[0m\u001b[0;34m\u001b[0m\u001b[0;34m\u001b[0m\u001b[0m\n",
      "\u001b[0;32m~/miniconda3/lib/python3.6/site-packages/pandas/core/internals/construction.py\u001b[0m in \u001b[0;36minit_ndarray\u001b[0;34m(values, index, columns, dtype, copy)\u001b[0m\n\u001b[1;32m    165\u001b[0m         \u001b[0mvalues\u001b[0m \u001b[0;34m=\u001b[0m \u001b[0mmaybe_infer_to_datetimelike\u001b[0m\u001b[0;34m(\u001b[0m\u001b[0mvalues\u001b[0m\u001b[0;34m)\u001b[0m\u001b[0;34m\u001b[0m\u001b[0;34m\u001b[0m\u001b[0m\n\u001b[1;32m    166\u001b[0m \u001b[0;34m\u001b[0m\u001b[0m\n\u001b[0;32m--> 167\u001b[0;31m     \u001b[0;32mreturn\u001b[0m \u001b[0mcreate_block_manager_from_blocks\u001b[0m\u001b[0;34m(\u001b[0m\u001b[0;34m[\u001b[0m\u001b[0mvalues\u001b[0m\u001b[0;34m]\u001b[0m\u001b[0;34m,\u001b[0m \u001b[0;34m[\u001b[0m\u001b[0mcolumns\u001b[0m\u001b[0;34m,\u001b[0m \u001b[0mindex\u001b[0m\u001b[0;34m]\u001b[0m\u001b[0;34m)\u001b[0m\u001b[0;34m\u001b[0m\u001b[0;34m\u001b[0m\u001b[0m\n\u001b[0m\u001b[1;32m    168\u001b[0m \u001b[0;34m\u001b[0m\u001b[0m\n\u001b[1;32m    169\u001b[0m \u001b[0;34m\u001b[0m\u001b[0m\n",
      "\u001b[0;32m~/miniconda3/lib/python3.6/site-packages/pandas/core/internals/managers.py\u001b[0m in \u001b[0;36mcreate_block_manager_from_blocks\u001b[0;34m(blocks, axes)\u001b[0m\n\u001b[1;32m   1658\u001b[0m         \u001b[0mblocks\u001b[0m \u001b[0;34m=\u001b[0m \u001b[0;34m[\u001b[0m\u001b[0mgetattr\u001b[0m\u001b[0;34m(\u001b[0m\u001b[0mb\u001b[0m\u001b[0;34m,\u001b[0m \u001b[0;34m'values'\u001b[0m\u001b[0;34m,\u001b[0m \u001b[0mb\u001b[0m\u001b[0;34m)\u001b[0m \u001b[0;32mfor\u001b[0m \u001b[0mb\u001b[0m \u001b[0;32min\u001b[0m \u001b[0mblocks\u001b[0m\u001b[0;34m]\u001b[0m\u001b[0;34m\u001b[0m\u001b[0;34m\u001b[0m\u001b[0m\n\u001b[1;32m   1659\u001b[0m         \u001b[0mtot_items\u001b[0m \u001b[0;34m=\u001b[0m \u001b[0msum\u001b[0m\u001b[0;34m(\u001b[0m\u001b[0mb\u001b[0m\u001b[0;34m.\u001b[0m\u001b[0mshape\u001b[0m\u001b[0;34m[\u001b[0m\u001b[0;36m0\u001b[0m\u001b[0;34m]\u001b[0m \u001b[0;32mfor\u001b[0m \u001b[0mb\u001b[0m \u001b[0;32min\u001b[0m \u001b[0mblocks\u001b[0m\u001b[0;34m)\u001b[0m\u001b[0;34m\u001b[0m\u001b[0;34m\u001b[0m\u001b[0m\n\u001b[0;32m-> 1660\u001b[0;31m         \u001b[0mconstruction_error\u001b[0m\u001b[0;34m(\u001b[0m\u001b[0mtot_items\u001b[0m\u001b[0;34m,\u001b[0m \u001b[0mblocks\u001b[0m\u001b[0;34m[\u001b[0m\u001b[0;36m0\u001b[0m\u001b[0;34m]\u001b[0m\u001b[0;34m.\u001b[0m\u001b[0mshape\u001b[0m\u001b[0;34m[\u001b[0m\u001b[0;36m1\u001b[0m\u001b[0;34m:\u001b[0m\u001b[0;34m]\u001b[0m\u001b[0;34m,\u001b[0m \u001b[0maxes\u001b[0m\u001b[0;34m,\u001b[0m \u001b[0me\u001b[0m\u001b[0;34m)\u001b[0m\u001b[0;34m\u001b[0m\u001b[0;34m\u001b[0m\u001b[0m\n\u001b[0m\u001b[1;32m   1661\u001b[0m \u001b[0;34m\u001b[0m\u001b[0m\n\u001b[1;32m   1662\u001b[0m \u001b[0;34m\u001b[0m\u001b[0m\n",
      "\u001b[0;32m~/miniconda3/lib/python3.6/site-packages/pandas/core/internals/managers.py\u001b[0m in \u001b[0;36mconstruction_error\u001b[0;34m(tot_items, block_shape, axes, e)\u001b[0m\n\u001b[1;32m   1689\u001b[0m         \u001b[0;32mraise\u001b[0m \u001b[0mValueError\u001b[0m\u001b[0;34m(\u001b[0m\u001b[0;34m\"Empty data passed with indices specified.\"\u001b[0m\u001b[0;34m)\u001b[0m\u001b[0;34m\u001b[0m\u001b[0;34m\u001b[0m\u001b[0m\n\u001b[1;32m   1690\u001b[0m     raise ValueError(\"Shape of passed values is {0}, indices imply {1}\".format(\n\u001b[0;32m-> 1691\u001b[0;31m         passed, implied))\n\u001b[0m\u001b[1;32m   1692\u001b[0m \u001b[0;34m\u001b[0m\u001b[0m\n\u001b[1;32m   1693\u001b[0m \u001b[0;34m\u001b[0m\u001b[0m\n",
      "\u001b[0;31mValueError\u001b[0m: Shape of passed values is (2, 2), indices imply (4, 4)"
     ]
    }
   ],
   "source": [
    "#How do I know the order of the labels???\n",
    "import matplotlib.pyplot as plt\n",
    "conf_matrix = pd.DataFrame(confusion_matrix(y_test, clf.predict(X_test_relevant)), index = [\"Basal\", \"Her2\", \"LumA\", \"LumB\"], columns = [\"Basal\", \"Her2\", \"LumA\", \"LumB\"])\n",
    "plt.figure(figsize=(9, 6))\n",
    "sn.heatmap(conf_matrix, annot=True, fmt='g')\n",
    "#conf_matrix.to_csv(\"results/tcga_log_res_confusion_matrix_5k_mutual_info.csv\")"
   ]
  },
  {
   "cell_type": "markdown",
   "metadata": {},
   "source": [
    "## With chi2"
   ]
  },
  {
   "cell_type": "code",
   "execution_count": 5,
   "metadata": {},
   "outputs": [],
   "source": [
    "import numpy as np\n",
    "\n",
    "\n",
    "def plot_confusion_matrix(cm,\n",
    "                          target_names,\n",
    "                          title='Confusion matrix',\n",
    "                          cmap=None,\n",
    "                          normalize=True):\n",
    "    \"\"\"\n",
    "    given a sklearn confusion matrix (cm), make a nice plot\n",
    "\n",
    "    Arguments\n",
    "    ---------\n",
    "    cm:           confusion matrix from sklearn.metrics.confusion_matrix\n",
    "\n",
    "    target_names: given classification classes such as [0, 1, 2]\n",
    "                  the class names, for example: ['high', 'medium', 'low']\n",
    "\n",
    "    title:        the text to display at the top of the matrix\n",
    "\n",
    "    cmap:         the gradient of the values displayed from matplotlib.pyplot.cm\n",
    "                  see http://matplotlib.org/examples/color/colormaps_reference.html\n",
    "                  plt.get_cmap('jet') or plt.cm.Blues\n",
    "\n",
    "    normalize:    If False, plot the raw numbers\n",
    "                  If True, plot the proportions\n",
    "\n",
    "    Usage\n",
    "    -----\n",
    "    plot_confusion_matrix(cm           = cm,                  # confusion matrix created by\n",
    "                                                              # sklearn.metrics.confusion_matrix\n",
    "                          normalize    = True,                # show proportions\n",
    "                          target_names = y_labels_vals,       # list of names of the classes\n",
    "                          title        = best_estimator_name) # title of graph\n",
    "\n",
    "    Citiation\n",
    "    ---------\n",
    "    http://scikit-learn.org/stable/auto_examples/model_selection/plot_confusion_matrix.html\n",
    "\n",
    "    \"\"\"\n",
    "    import matplotlib.pyplot as plt\n",
    "    import numpy as np\n",
    "    import itertools\n",
    "\n",
    "    accuracy = np.trace(cm) / float(np.sum(cm))\n",
    "    misclass = 1 - accuracy\n",
    "\n",
    "    if cmap is None:\n",
    "        cmap = plt.get_cmap('Blues')\n",
    "\n",
    "    plt.figure(figsize=(8, 6))\n",
    "    plt.imshow(cm, interpolation='nearest', cmap=cmap)\n",
    "    plt.title(title)\n",
    "    plt.colorbar()\n",
    "\n",
    "    if target_names is not None:\n",
    "        tick_marks = np.arange(len(target_names))\n",
    "        plt.xticks(tick_marks, target_names, rotation=45)\n",
    "        plt.yticks(tick_marks, target_names)\n",
    "\n",
    "    if normalize:\n",
    "        cm = cm.astype('float') / cm.sum(axis=1)[:, np.newaxis]\n",
    "\n",
    "\n",
    "    thresh = cm.max() / 1.5 if normalize else cm.max() / 2\n",
    "    for i, j in itertools.product(range(cm.shape[0]), range(cm.shape[1])):\n",
    "        if normalize:\n",
    "            plt.text(j, i, \"{:0.4f}\".format(cm[i, j]),\n",
    "                     horizontalalignment=\"center\",\n",
    "                     color=\"white\" if cm[i, j] > thresh else \"black\")\n",
    "        else:\n",
    "            plt.text(j, i, \"{:,}\".format(cm[i, j]),\n",
    "                     horizontalalignment=\"center\",\n",
    "                     color=\"white\" if cm[i, j] > thresh else \"black\")\n",
    "\n",
    "\n",
    "    plt.tight_layout()\n",
    "    plt.ylabel('True label')\n",
    "    plt.xlabel('Predicted label\\naccuracy={:0.4f}; misclass={:0.4f}'.format(accuracy, misclass))\n",
    "    plt.show()"
   ]
  },
  {
   "cell_type": "code",
   "execution_count": 6,
   "metadata": {},
   "outputs": [],
   "source": [
    "selector = SelectKBest(chi2, k=5000).fit(X_train_scaled, y_train)\n",
    "relevant_idx = selector.get_support()\n",
    "relevant_genes = X_train_scaled.columns[relevant_idx]"
   ]
  },
  {
   "cell_type": "code",
   "execution_count": 7,
   "metadata": {},
   "outputs": [],
   "source": [
    "X_train_relevant = X_train_scaled[relevant_genes]\n",
    "X_test_relevant = X_test_scaled[relevant_genes]"
   ]
  },
  {
   "cell_type": "code",
   "execution_count": 8,
   "metadata": {},
   "outputs": [],
   "source": [
    "### Tune parameter C"
   ]
  },
  {
   "cell_type": "code",
   "execution_count": 9,
   "metadata": {},
   "outputs": [
    {
     "name": "stdout",
     "output_type": "stream",
     "text": [
      "5-Fold results: [0.175, 0.17088607594936708, 0.17088607594936708, 0.17088607594936708, 0.17088607594936708]\n",
      "C: 0.001, Accuracy: 0.17170886075949368\n",
      "5-Fold results: [0.51875, 0.5316455696202531, 0.5253164556962026, 0.5253164556962026, 0.5253164556962026]\n",
      "C: 0.01, Accuracy: 0.5252689873417722\n",
      "5-Fold results: [0.78125, 0.7784810126582279, 0.879746835443038, 0.8607594936708861, 0.8354430379746836]\n",
      "C: 0.1, Accuracy: 0.8271360759493671\n",
      "5-Fold results: [0.8625, 0.8670886075949367, 0.8987341772151899, 0.9493670886075949, 0.8924050632911392]\n",
      "C: 1, Accuracy: 0.8940189873417722\n",
      "5-Fold results: [0.86875, 0.8670886075949367, 0.9050632911392406, 0.9367088607594937, 0.879746835443038]\n",
      "C: 10, Accuracy: 0.8914715189873418\n",
      "5-Fold results: [0.88125, 0.8860759493670886, 0.8987341772151899, 0.9177215189873418, 0.879746835443038]\n",
      "C: 100, Accuracy: 0.8927056962025317\n",
      "5-Fold results: [0.85, 0.8734177215189873, 0.9050632911392406, 0.9050632911392406, 0.8924050632911392]\n",
      "C: 1000, Accuracy: 0.8851898734177215\n",
      "5-Fold results: [0.825, 0.879746835443038, 0.8987341772151899, 0.8924050632911392, 0.8670886075949367]\n",
      "C: 10000, Accuracy: 0.8725949367088607\n"
     ]
    },
    {
     "data": {
      "text/plain": [
       "[0.17170886075949368,\n",
       " 0.5252689873417722,\n",
       " 0.8271360759493671,\n",
       " 0.8940189873417722,\n",
       " 0.8914715189873418,\n",
       " 0.8927056962025317,\n",
       " 0.8851898734177215,\n",
       " 0.8725949367088607]"
      ]
     },
     "execution_count": 9,
     "metadata": {},
     "output_type": "execute_result"
    }
   ],
   "source": [
    "values=[0.001, 0.01, 0.1, 1, 10, 100, 1000, 10000]\n",
    "i=1\n",
    "results = pd.DataFrame(columns=[\"Index\", \"C\", \"Accuracy\"])\n",
    "mean_scores = []\n",
    "\n",
    "skf = StratifiedKFold(n_splits=5)\n",
    "\n",
    "for c in values:\n",
    "    scores = []\n",
    "    \n",
    "    for train_index, test_index in skf.split(X_train_relevant, y_train):\n",
    "\n",
    "        X_cv_train, X_cv_val = X_train_relevant.iloc[train_index], X_train_relevant.iloc[test_index]\n",
    "        y_cv_train, y_cv_val = y_train.iloc[train_index], y_train.iloc[test_index]\n",
    "\n",
    "        clf = LogisticRegression(random_state=0, solver='liblinear', penalty=\"l1\", C=c, multi_class=\"auto\").fit(X_cv_train, y_cv_train)\n",
    "        \n",
    "        score = clf.score(X_cv_val, y_cv_val)\n",
    "        results = results.append({'Fold': i, 'C' : c , 'Score' : score}, ignore_index=True)\n",
    "        scores.append(score)\n",
    "        i+=1\n",
    "        \n",
    "    i=1\n",
    "    mean_scores.append(np.mean(scores))\n",
    "    print('5-Fold results: {}'.format(scores))\n",
    "    print('C: {}, Accuracy: {}'.format(c, np.mean(scores)))\n",
    "        \n",
    "#results.to_csv(\"parameter_tuning/logisticRegression_C_tuning_5k_chi2.csv\", index=False)\n",
    "mean_scores"
   ]
  },
  {
   "cell_type": "code",
   "execution_count": 10,
   "metadata": {},
   "outputs": [],
   "source": [
    "clf_5k = LogisticRegression(random_state=0, solver='liblinear', penalty=\"l1\", C=100, multi_class=\"auto\").fit(X_train_relevant, y_train)"
   ]
  },
  {
   "cell_type": "code",
   "execution_count": 11,
   "metadata": {},
   "outputs": [
    {
     "name": "stdout",
     "output_type": "stream",
     "text": [
      "Confusion matrix\n",
      " [[ 40   1   1   1]\n",
      " [  0  12   1   3]\n",
      " [  0   0 127   4]\n",
      " [  0   0  14  18]]\n",
      "Accuracy 0.8873873873873874\n"
     ]
    }
   ],
   "source": [
    "final_score = clf.score(X_test_relevant, y_test)\n",
    "print('Confusion matrix\\n', confusion_matrix(y_test, clf.predict(X_test_relevant)))\n",
    "print('Accuracy', final_score)"
   ]
  },
  {
   "cell_type": "code",
   "execution_count": 12,
   "metadata": {},
   "outputs": [
    {
     "data": {
      "image/png": "[encoded data removed]",
      "text/plain": [
       "<Figure size 648x432 with 2 Axes>"
      ]
     },
     "metadata": {
      "needs_background": "light"
     },
     "output_type": "display_data"
    }
   ],
   "source": [
    "#How do I know the order of the labels???\n",
    "import matplotlib.pyplot as plt\n",
    "conf_matrix = pd.DataFrame(confusion_matrix(y_test, clf.predict(X_test_relevant)), index = [\"Basal\", \"Her2\", \"LumA\", \"LumB\"], columns = [\"Basal\", \"Her2\", \"LumA\", \"LumB\"])\n",
    "plt.figure(figsize=(9, 6))\n",
    "sn.heatmap(conf_matrix, annot=True, fmt='g')\n",
    "#conf_matrix.to_csv(\"results/tcga_log_res_confusion_matrix_5k_chi2.csv\")"
   ]
  },
  {
   "cell_type": "code",
   "execution_count": 13,
   "metadata": {},
   "outputs": [
    {
     "data": {
      "image/png": "[encoded data removed]",
      "text/plain": [
       "<Figure size 576x432 with 2 Axes>"
      ]
     },
     "metadata": {
      "needs_background": "light"
     },
     "output_type": "display_data"
    }
   ],
   "source": [
    "plot_confusion_matrix(cm           = confusion_matrix(y_test, clf.predict(X_test_relevant)), \n",
    "                      normalize    = False,\n",
    "                      target_names = [\"Basal\", \"Her2\", \"LumA\", \"LumB\"],\n",
    "                      title        = \"Confusion Matrix\")"
   ]
  },
  {
   "cell_type": "code",
   "execution_count": null,
   "metadata": {},
   "outputs": [],
   "source": []
  }
 ],
 "metadata": {
  "kernelspec": {
   "display_name": "Python 3",
   "language": "python",
   "name": "python3"
  },
  "language_info": {
   "codemirror_mode": {
    "name": "ipython",
    "version": 3
   },
   "file_extension": ".py",
   "mimetype": "text/x-python",
   "name": "python",
   "nbconvert_exporter": "python",
   "pygments_lexer": "ipython3",
   "version": "3.6.8"
  }
 },
 "nbformat": 4,
 "nbformat_minor": 2
}
