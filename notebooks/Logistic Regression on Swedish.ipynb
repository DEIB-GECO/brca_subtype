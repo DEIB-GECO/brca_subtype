{
 "cells": [
  {
   "cell_type": "markdown",
   "metadata": {},
   "source": [
    "# Logistic Regression on the Swedish dataset\n",
    "#### Using Logistic Regression for breast cancer subtype classification"
   ]
  },
  {
   "cell_type": "code",
   "execution_count": 1,
   "metadata": {},
   "outputs": [],
   "source": [
    "import pandas as pd\n",
    "import numpy as np\n",
    "\n",
    "from sklearn.preprocessing import MinMaxScaler, StandardScaler\n",
    "from sklearn.model_selection import train_test_split, StratifiedKFold\n",
    "from sklearn.linear_model import LogisticRegression\n",
    "from sklearn.feature_selection import VarianceThreshold, SelectKBest, chi2, mutual_info_classif\n",
    "from sklearn.model_selection import cross_val_score\n",
    "from sklearn.metrics import confusion_matrix\n",
    "\n",
    "import seaborn as sn\n",
    "import matplotlib.pyplot as plt"
   ]
  },
  {
   "cell_type": "markdown",
   "metadata": {},
   "source": [
    "## Load and split the dataset"
   ]
  },
  {
   "cell_type": "code",
   "execution_count": 2,
   "metadata": {},
   "outputs": [],
   "source": [
    "# Training set\n",
    "X_train = pd.read_csv(\"data/swedish_train.csv\")\n",
    "X_train = X_train[X_train.expert_PAM50_subtypes != \"Normal\"]\n",
    "y_train = X_train[\"expert_PAM50_subtypes\"]\n",
    "\n",
    "X_train.drop(['expert_PAM50_subtypes'], axis=\"columns\", inplace=True)\n",
    "\n",
    "# Final test set\n",
    "X_test = pd.read_csv(\"data/swedish_test.csv\")\n",
    "X_test = X_test[X_test.expert_PAM50_subtypes != \"Normal\"]\n",
    "y_test = X_test[\"expert_PAM50_subtypes\"]\n",
    "\n",
    "X_test.drop(['expert_PAM50_subtypes'], axis=\"columns\", inplace=True)\n",
    "\n",
    "# Order the features correctly\n",
    "\n",
    "X_train = X_train.reindex(sorted(X_train.columns), axis=\"columns\")\n",
    "X_test = X_test.reindex(sorted(X_test.columns), axis=\"columns\")"
   ]
  },
  {
   "cell_type": "code",
   "execution_count": 3,
   "metadata": {},
   "outputs": [
    {
     "data": {
      "text/plain": [
       "LumA     1450\n",
       "LumB      667\n",
       "Basal     317\n",
       "Her2      314\n",
       "Name: expert_PAM50_subtypes, dtype: int64"
      ]
     },
     "execution_count": 3,
     "metadata": {},
     "output_type": "execute_result"
    }
   ],
   "source": [
    "y_train.value_counts()"
   ]
  },
  {
   "cell_type": "code",
   "execution_count": 4,
   "metadata": {},
   "outputs": [
    {
     "data": {
      "text/plain": [
       "LumA     363\n",
       "LumB     167\n",
       "Basal     79\n",
       "Her2      78\n",
       "Name: expert_PAM50_subtypes, dtype: int64"
      ]
     },
     "execution_count": 4,
     "metadata": {},
     "output_type": "execute_result"
    }
   ],
   "source": [
    "y_test.value_counts()"
   ]
  },
  {
   "cell_type": "markdown",
   "metadata": {},
   "source": [
    "### Scale the data"
   ]
  },
  {
   "cell_type": "code",
   "execution_count": 5,
   "metadata": {},
   "outputs": [],
   "source": [
    "scaler = MinMaxScaler()\n",
    "scaler.fit(X_train)\n",
    "X_train_scaled = pd.DataFrame(scaler.transform(X_train), columns=X_train.columns)\n",
    "X_test_scaled = pd.DataFrame(scaler.transform(X_test), columns=X_test.columns)"
   ]
  },
  {
   "cell_type": "markdown",
   "metadata": {},
   "source": [
    "## Code to tune parameter C"
   ]
  },
  {
   "cell_type": "code",
   "execution_count": 6,
   "metadata": {},
   "outputs": [
    {
     "name": "stdout",
     "output_type": "stream",
     "text": [
      "Fold 1 of 5\n",
      "Fold 2 of 5\n",
      "Fold 3 of 5\n",
      "Fold 4 of 5\n",
      "Fold 5 of 5\n",
      "Results: [0.1161524500907441, 0.1161524500907441, 0.11475409836065574, 0.11475409836065574, 0.11496350364963503]\n",
      "C: 0.001, Accuracy: 0.11535532011048695\n",
      "Fold 1 of 5\n",
      "Fold 2 of 5\n",
      "Fold 3 of 5\n",
      "Fold 4 of 5\n",
      "Fold 5 of 5\n",
      "Results: [0.5898366606170599, 0.5843920145190563, 0.5828779599271403, 0.5828779599271403, 0.5875912408759124]\n",
      "C: 0.01, Accuracy: 0.5855151671732618\n",
      "Fold 1 of 5\n",
      "Fold 2 of 5\n",
      "Fold 3 of 5\n",
      "Fold 4 of 5\n",
      "Fold 5 of 5\n",
      "Results: [0.9128856624319419, 0.9074410163339383, 0.907103825136612, 0.9162112932604736, 0.927007299270073]\n",
      "C: 0.1, Accuracy: 0.9141298192866077\n",
      "Fold 1 of 5\n",
      "Fold 2 of 5\n",
      "Fold 3 of 5\n",
      "Fold 4 of 5\n",
      "Fold 5 of 5\n",
      "Results: [0.9165154264972777, 0.9165154264972777, 0.912568306010929, 0.9344262295081968, 0.9361313868613139]\n",
      "C: 1, Accuracy: 0.9232313550749989\n",
      "Fold 1 of 5\n",
      "Fold 2 of 5\n",
      "Fold 3 of 5\n",
      "Fold 4 of 5\n",
      "Fold 5 of 5\n",
      "Results: [0.9165154264972777, 0.9183303085299456, 0.907103825136612, 0.9289617486338798, 0.916058394160584]\n",
      "C: 10, Accuracy: 0.9173939405916599\n",
      "Fold 1 of 5\n",
      "Fold 2 of 5\n",
      "Fold 3 of 5\n",
      "Fold 4 of 5\n",
      "Fold 5 of 5\n",
      "Results: [0.911070780399274, 0.9074410163339383, 0.9034608378870674, 0.9162112932604736, 0.9288321167883211]\n",
      "C: 100, Accuracy: 0.9134032089338149\n",
      "Fold 1 of 5\n",
      "Fold 2 of 5\n",
      "Fold 3 of 5\n",
      "Fold 4 of 5\n",
      "Fold 5 of 5\n",
      "Results: [0.9019963702359347, 0.9128856624319419, 0.8961748633879781, 0.9052823315118397, 0.9014598540145985]\n",
      "C: 1000, Accuracy: 0.9035598163164587\n",
      "Fold 1 of 5\n",
      "Fold 2 of 5\n",
      "Fold 3 of 5\n",
      "Fold 4 of 5\n",
      "Fold 5 of 5\n",
      "Results: [0.8838475499092558, 0.8929219600725953, 0.8706739526411658, 0.8852459016393442, 0.8868613138686131]\n",
      "C: 10000, Accuracy: 0.8839101356261949\n"
     ]
    },
    {
     "data": {
      "text/plain": [
       "[0.11535532011048695,\n",
       " 0.5855151671732618,\n",
       " 0.9141298192866077,\n",
       " 0.9232313550749989,\n",
       " 0.9173939405916599,\n",
       " 0.9134032089338149,\n",
       " 0.9035598163164587,\n",
       " 0.8839101356261949]"
      ]
     },
     "execution_count": 6,
     "metadata": {},
     "output_type": "execute_result"
    }
   ],
   "source": [
    "values=[0.001, 0.01, 0.1, 1, 10, 100, 1000, 10000]\n",
    "i=1\n",
    "results = pd.DataFrame(columns=[\"Index\", \"C\", \"Accuracy\"])\n",
    "mean_scores = []\n",
    "\n",
    "\n",
    "skf = StratifiedKFold(n_splits=5)\n",
    "for c in values:\n",
    "    scores = []\n",
    "\n",
    "    for train_index, test_index in skf.split(X_train_scaled, y_train):\n",
    "        print(\"Fold {} of 5\".format(i))\n",
    "        X_cv_train, X_cv_val = X_train_scaled.iloc[train_index], X_train_scaled.iloc[test_index]\n",
    "        y_cv_train, y_cv_val = y_train.iloc[train_index], y_train.iloc[test_index]\n",
    "\n",
    "        clf = LogisticRegression(random_state=0, solver='liblinear', penalty=\"l1\", C=c, multi_class=\"auto\").fit(X_cv_train, y_cv_train)\n",
    "\n",
    "        score = clf.score(X_cv_val, y_cv_val)\n",
    "        results = results.append({'Fold': i, 'C' : c , 'Score' : score}, ignore_index=True)\n",
    "        scores.append(score)\n",
    "        i+=1\n",
    "\n",
    "    i=1\n",
    "    mean_scores.append(np.mean(scores))\n",
    "    print('Results: {}'.format(scores))\n",
    "    print('C: {}, Accuracy: {}'.format(c, np.mean(scores)))\n",
    "        \n",
    "results.to_csv(\"parameter_tuning/LogisticRegression/swedish_c_tuning_all_genes.csv\", index=False)\n",
    "mean_scores"
   ]
  },
  {
   "cell_type": "markdown",
   "metadata": {},
   "source": [
    "### We can see that C=1 is the best parameter, hence why we'll use it to test our model"
   ]
  },
  {
   "cell_type": "code",
   "execution_count": null,
   "metadata": {},
   "outputs": [],
   "source": [
    "clf = LogisticRegression(random_state=0, solver='liblinear', penalty=\"l1\", C=1, multi_class=\"auto\").fit(X_train_scaled, y_train)"
   ]
  },
  {
   "cell_type": "code",
   "execution_count": 9,
   "metadata": {
    "scrolled": true
   },
   "outputs": [
    {
     "name": "stdout",
     "output_type": "stream",
     "text": [
      "Confusion matrix\n",
      " [[ 72   3   3   1]\n",
      " [  0  65   1  12]\n",
      " [  0   1 346  16]\n",
      " [  0   5  15 147]]\n",
      "Accuracy 0.9170305676855895\n"
     ]
    }
   ],
   "source": [
    "final_score = clf.score(X_test_scaled, y_test)\n",
    "print('Confusion matrix\\n', confusion_matrix(y_test, clf.predict(X_test_scaled)))\n",
    "print('Accuracy', final_score)"
   ]
  },
  {
   "cell_type": "code",
   "execution_count": 10,
   "metadata": {},
   "outputs": [
    {
     "data": {
      "image/png": "[encoded data removed]",
      "text/plain": [
       "<Figure size 648x432 with 2 Axes>"
      ]
     },
     "metadata": {
      "needs_background": "light"
     },
     "output_type": "display_data"
    }
   ],
   "source": [
    "#How do I know the order of the labels???\n",
    "import matplotlib.pyplot as plt\n",
    "conf_matrix = pd.DataFrame(confusion_matrix(y_test, clf.predict(X_test_scaled)), index = [\"Basal\", \"Her2\", \"LumA\", \"LumB\"], columns = [\"Basal\", \"Her2\", \"LumA\", \"LumB\"])\n",
    "plt.figure(figsize=(9, 6))\n",
    "sn.heatmap(conf_matrix, annot=True, fmt='g')\n",
    "conf_matrix.to_csv(\"results/LogisticRegression/swedish_confusion_matrix_all_genes.csv\")"
   ]
  },
  {
   "cell_type": "markdown",
   "metadata": {},
   "source": [
    "# Let's try to use the 5k more \"influential\""
   ]
  },
  {
   "cell_type": "markdown",
   "metadata": {},
   "source": [
    "## With mutual_info_classif"
   ]
  },
  {
   "cell_type": "code",
   "execution_count": 12,
   "metadata": {},
   "outputs": [],
   "source": [
    "selector = SelectKBest(mutual_info_classif, k=5000).fit(X_train_scaled, y_train)\n",
    "relevant_idx = selector.get_support()\n",
    "relevant_genes = X_train_scaled.columns[relevant_idx]"
   ]
  },
  {
   "cell_type": "code",
   "execution_count": 13,
   "metadata": {},
   "outputs": [],
   "source": [
    "X_train_relevant = X_train_scaled[relevant_genes]\n",
    "X_test_relevant = X_test_scaled[relevant_genes]"
   ]
  },
  {
   "cell_type": "markdown",
   "metadata": {},
   "source": [
    "### Tune parameter C"
   ]
  },
  {
   "cell_type": "code",
   "execution_count": 14,
   "metadata": {},
   "outputs": [
    {
     "name": "stdout",
     "output_type": "stream",
     "text": [
      "5-Fold results: [0.1161524500907441, 0.1161524500907441, 0.11475409836065574, 0.11475409836065574, 0.11496350364963503]\n",
      "C: 0.001, Accuracy: 0.11535532011048695\n",
      "5-Fold results: [0.5843920145190563, 0.5825771324863884, 0.5883424408014571, 0.5865209471766849, 0.5875912408759124]\n",
      "C: 0.01, Accuracy: 0.5858847551718998\n",
      "5-Fold results: [0.9038112522686026, 0.9092558983666061, 0.9034608378870674, 0.9198542805100182, 0.9288321167883211]\n",
      "C: 0.1, Accuracy: 0.9130428771641231\n",
      "5-Fold results: [0.925589836660617, 0.9274047186932849, 0.9216757741347905, 0.9344262295081968, 0.9324817518248175]\n",
      "C: 1, Accuracy: 0.9283156621643412\n",
      "5-Fold results: [0.9237749546279492, 0.925589836660617, 0.9162112932604736, 0.9271402550091075, 0.927007299270073]\n",
      "C: 10, Accuracy: 0.9239447277656442\n",
      "5-Fold results: [0.9183303085299456, 0.9183303085299456, 0.9216757741347905, 0.9216757741347905, 0.9197080291970803]\n",
      "C: 100, Accuracy: 0.9199440389053105\n",
      "5-Fold results: [0.9165154264972777, 0.9165154264972777, 0.9089253187613844, 0.912568306010929, 0.916058394160584]\n",
      "C: 1000, Accuracy: 0.9141165743854905\n",
      "5-Fold results: [0.9147005444646098, 0.9165154264972777, 0.9089253187613844, 0.907103825136612, 0.9197080291970803]\n",
      "C: 10000, Accuracy: 0.9133906288113929\n"
     ]
    },
    {
     "data": {
      "text/plain": [
       "[0.11535532011048695,\n",
       " 0.5858847551718998,\n",
       " 0.9130428771641231,\n",
       " 0.9283156621643412,\n",
       " 0.9239447277656442,\n",
       " 0.9199440389053105,\n",
       " 0.9141165743854905,\n",
       " 0.9133906288113929]"
      ]
     },
     "execution_count": 14,
     "metadata": {},
     "output_type": "execute_result"
    }
   ],
   "source": [
    "values=[0.001, 0.01, 0.1, 1, 10, 100, 1000, 10000]\n",
    "i=1\n",
    "results = pd.DataFrame(columns=[\"Index\", \"C\", \"Accuracy\"])\n",
    "mean_scores = []\n",
    "\n",
    "skf = StratifiedKFold(n_splits=5)\n",
    "\n",
    "for c in values:\n",
    "    scores = []\n",
    "    \n",
    "    for train_index, test_index in skf.split(X_train_relevant, y_train):\n",
    "\n",
    "        X_cv_train, X_cv_val = X_train_relevant.iloc[train_index], X_train_relevant.iloc[test_index]\n",
    "        y_cv_train, y_cv_val = y_train.iloc[train_index], y_train.iloc[test_index]\n",
    "\n",
    "        clf = LogisticRegression(random_state=0, solver='liblinear', penalty=\"l1\", C=c, multi_class=\"auto\").fit(X_cv_train, y_cv_train)\n",
    "        \n",
    "        score = clf.score(X_cv_val, y_cv_val)\n",
    "        results = results.append({'Fold': i, 'C' : c , 'Score' : score}, ignore_index=True)\n",
    "        scores.append(score)\n",
    "        i+=1\n",
    "        \n",
    "    i=1\n",
    "    mean_scores.append(np.mean(scores))\n",
    "    print('5-Fold results: {}'.format(scores))\n",
    "    print('C: {}, Accuracy: {}'.format(c, np.mean(scores)))\n",
    "        \n",
    "results.to_csv(\"parameter_tuning/LogisticRegression/swedish_c_tuning_5k_mutual_info.csv\", index=False)\n",
    "mean_scores"
   ]
  },
  {
   "cell_type": "markdown",
   "metadata": {},
   "source": [
    "### Train the Model (best c=1)"
   ]
  },
  {
   "cell_type": "code",
   "execution_count": 15,
   "metadata": {},
   "outputs": [],
   "source": [
    "clf_5k_mutual = LogisticRegression(random_state=0, solver='liblinear', penalty=\"l1\", C=1, multi_class=\"auto\").fit(X_train_relevant, y_train)"
   ]
  },
  {
   "cell_type": "code",
   "execution_count": 16,
   "metadata": {},
   "outputs": [
    {
     "name": "stdout",
     "output_type": "stream",
     "text": [
      "Confusion matrix\n",
      " [[ 76   1   2   0]\n",
      " [  1  66   1  10]\n",
      " [  0   1 350  12]\n",
      " [  0   6  12 149]]\n",
      "Accuracy 0.9330422125181951\n"
     ]
    }
   ],
   "source": [
    "final_score = clf_5k_mutual.score(X_test_relevant, y_test)\n",
    "print('Confusion matrix\\n', confusion_matrix(y_test, clf_5k_mutual.predict(X_test_relevant)))\n",
    "print('Accuracy', final_score)"
   ]
  },
  {
   "cell_type": "code",
   "execution_count": 17,
   "metadata": {},
   "outputs": [
    {
     "data": {
      "image/png": "[encoded data removed]",
      "text/plain": [
       "<Figure size 648x432 with 2 Axes>"
      ]
     },
     "metadata": {
      "needs_background": "light"
     },
     "output_type": "display_data"
    }
   ],
   "source": [
    "#How do I know the order of the labels???\n",
    "import matplotlib.pyplot as plt\n",
    "conf_matrix = pd.DataFrame(confusion_matrix(y_test, clf_5k_mutual.predict(X_test_relevant)), index = [\"Basal\", \"Her2\", \"LumA\", \"LumB\"], columns = [\"Basal\", \"Her2\", \"LumA\", \"LumB\"])\n",
    "plt.figure(figsize=(9, 6))\n",
    "sn.heatmap(conf_matrix, annot=True, fmt='g')\n",
    "conf_matrix.to_csv(\"results/LogisticRegression/swedish_confusion_matrix_5k_mutual_info.csv\")"
   ]
  },
  {
   "cell_type": "markdown",
   "metadata": {},
   "source": [
    "## With chi2"
   ]
  },
  {
   "cell_type": "code",
   "execution_count": 18,
   "metadata": {},
   "outputs": [
    {
     "name": "stderr",
     "output_type": "stream",
     "text": [
      "/home/cristovao/miniconda3/lib/python3.6/site-packages/sklearn/feature_selection/univariate_selection.py:167: RuntimeWarning: divide by zero encountered in true_divide\n",
      "  chisq /= f_exp\n"
     ]
    }
   ],
   "source": [
    "selector = SelectKBest(chi2, k=5000).fit(X_train_scaled, y_train)\n",
    "relevant_idx = selector.get_support()\n",
    "relevant_genes = X_train_scaled.columns[relevant_idx]"
   ]
  },
  {
   "cell_type": "code",
   "execution_count": 19,
   "metadata": {},
   "outputs": [],
   "source": [
    "X_train_relevant = X_train_scaled[relevant_genes]\n",
    "X_test_relevant = X_test_scaled[relevant_genes]"
   ]
  },
  {
   "cell_type": "markdown",
   "metadata": {},
   "source": [
    "### Tune parameter C"
   ]
  },
  {
   "cell_type": "code",
   "execution_count": 20,
   "metadata": {},
   "outputs": [
    {
     "name": "stdout",
     "output_type": "stream",
     "text": [
      "5-Fold results: [0.1161524500907441, 0.1161524500907441, 0.11475409836065574, 0.11475409836065574, 0.11496350364963503]\n",
      "C: 0.001, Accuracy: 0.11535532011048695\n",
      "5-Fold results: [0.5825771324863884, 0.5807622504537205, 0.5846994535519126, 0.5828779599271403, 0.5875912408759124]\n",
      "C: 0.01, Accuracy: 0.5837016074590149\n",
      "5-Fold results: [0.9092558983666061, 0.9092558983666061, 0.9052823315118397, 0.9198542805100182, 0.927007299270073]\n",
      "C: 0.1, Accuracy: 0.9141311416050286\n",
      "5-Fold results: [0.9074410163339383, 0.9219600725952813, 0.907103825136612, 0.9344262295081968, 0.9416058394160584]\n",
      "C: 1, Accuracy: 0.9225073965980173\n",
      "5-Fold results: [0.9019963702359347, 0.9201451905626135, 0.9216757741347905, 0.9253187613843351, 0.9178832116788321]\n",
      "C: 10, Accuracy: 0.9174038615993012\n",
      "5-Fold results: [0.9147005444646098, 0.925589836660617, 0.9143897996357013, 0.9253187613843351, 0.9142335766423357]\n",
      "C: 100, Accuracy: 0.9188465037575199\n",
      "5-Fold results: [0.9183303085299456, 0.9183303085299456, 0.8961748633879781, 0.912568306010929, 0.9014598540145985]\n",
      "C: 1000, Accuracy: 0.9093727280946793\n",
      "5-Fold results: [0.9056261343012704, 0.911070780399274, 0.8888888888888888, 0.9107468123861566, 0.9051094890510949]\n",
      "C: 10000, Accuracy: 0.9042884210053369\n"
     ]
    },
    {
     "data": {
      "text/plain": [
       "[0.11535532011048695,\n",
       " 0.5837016074590149,\n",
       " 0.9141311416050286,\n",
       " 0.9225073965980173,\n",
       " 0.9174038615993012,\n",
       " 0.9188465037575199,\n",
       " 0.9093727280946793,\n",
       " 0.9042884210053369]"
      ]
     },
     "execution_count": 20,
     "metadata": {},
     "output_type": "execute_result"
    }
   ],
   "source": [
    "values=[0.001, 0.01, 0.1, 1, 10, 100, 1000, 10000]\n",
    "i=1\n",
    "results = pd.DataFrame(columns=[\"Index\", \"C\", \"Accuracy\"])\n",
    "mean_scores = []\n",
    "\n",
    "skf = StratifiedKFold(n_splits=5)\n",
    "\n",
    "for c in values:\n",
    "    scores = []\n",
    "    \n",
    "    for train_index, test_index in skf.split(X_train_relevant, y_train):\n",
    "\n",
    "        X_cv_train, X_cv_val = X_train_relevant.iloc[train_index], X_train_relevant.iloc[test_index]\n",
    "        y_cv_train, y_cv_val = y_train.iloc[train_index], y_train.iloc[test_index]\n",
    "\n",
    "        clf = LogisticRegression(random_state=0, solver='liblinear', penalty=\"l1\", C=c, multi_class=\"auto\").fit(X_cv_train, y_cv_train)\n",
    "        \n",
    "        score = clf.score(X_cv_val, y_cv_val)\n",
    "        results = results.append({'Fold': i, 'C' : c , 'Score' : score}, ignore_index=True)\n",
    "        scores.append(score)\n",
    "        i+=1\n",
    "        \n",
    "    i=1\n",
    "    mean_scores.append(np.mean(scores))\n",
    "    print('5-Fold results: {}'.format(scores))\n",
    "    print('C: {}, Accuracy: {}'.format(c, np.mean(scores)))\n",
    "        \n",
    "results.to_csv(\"parameter_tuning/LogisticRegression/swedish_c_tuning_5k_chi2.csv\", index=False)\n",
    "mean_scores"
   ]
  },
  {
   "cell_type": "markdown",
   "metadata": {},
   "source": [
    "### Train the model (best c=1)"
   ]
  },
  {
   "cell_type": "code",
   "execution_count": 21,
   "metadata": {},
   "outputs": [],
   "source": [
    "clf_5k_chi2 = LogisticRegression(random_state=0, solver='liblinear', penalty=\"l1\", C=1, multi_class=\"auto\").fit(X_train_relevant, y_train)"
   ]
  },
  {
   "cell_type": "code",
   "execution_count": 23,
   "metadata": {},
   "outputs": [
    {
     "name": "stdout",
     "output_type": "stream",
     "text": [
      "Confusion matrix\n",
      " [[ 74   2   3   0]\n",
      " [  2  66   2   8]\n",
      " [  0   1 350  12]\n",
      " [  0   5  14 148]]\n",
      "Accuracy 0.9286754002911208\n"
     ]
    }
   ],
   "source": [
    "final_score = clf_5k_chi2.score(X_test_relevant, y_test)\n",
    "print('Confusion matrix\\n', confusion_matrix(y_test, clf_5k_chi2.predict(X_test_relevant)))\n",
    "print('Accuracy', final_score)"
   ]
  },
  {
   "cell_type": "code",
   "execution_count": 24,
   "metadata": {},
   "outputs": [
    {
     "data": {
      "image/png": "[encoded data removed]",
      "text/plain": [
       "<Figure size 648x432 with 2 Axes>"
      ]
     },
     "metadata": {
      "needs_background": "light"
     },
     "output_type": "display_data"
    }
   ],
   "source": [
    "#How do I know the order of the labels???\n",
    "import matplotlib.pyplot as plt\n",
    "conf_matrix = pd.DataFrame(confusion_matrix(y_test, clf_5k_chi2.predict(X_test_relevant)), index = [\"Basal\", \"Her2\", \"LumA\", \"LumB\"], columns = [\"Basal\", \"Her2\", \"LumA\", \"LumB\"])\n",
    "plt.figure(figsize=(9, 6))\n",
    "sn.heatmap(conf_matrix, annot=True, fmt='g')\n",
    "conf_matrix.to_csv(\"results/LogisticRegression/swedish_confusion_matrix_5k_chi2.csv\")"
   ]
  },
  {
   "cell_type": "code",
   "execution_count": null,
   "metadata": {},
   "outputs": [],
   "source": []
  }
 ],
 "metadata": {
  "kernelspec": {
   "display_name": "Python 3",
   "language": "python",
   "name": "python3"
  },
  "language_info": {
   "codemirror_mode": {
    "name": "ipython",
    "version": 3
   },
   "file_extension": ".py",
   "mimetype": "text/x-python",
   "name": "python",
   "nbconvert_exporter": "python",
   "pygments_lexer": "ipython3",
   "version": "3.6.8"
  }
 },
 "nbformat": 4,
 "nbformat_minor": 2
}
