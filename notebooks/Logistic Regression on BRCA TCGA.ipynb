{
 "cells": [
  {
   "cell_type": "markdown",
   "metadata": {},
   "source": [
    "# Logistic Regression on BRCA subset of the TCGA dataset\n",
    "#### Using Logistic Regression for breast cancer subtype classification"
   ]
  },
  {
   "cell_type": "code",
   "execution_count": 1,
   "metadata": {
    "collapsed": true
   },
   "outputs": [],
   "source": [
    "import pandas as pd\n",
    "import numpy as np\n",
    "\n",
    "from sklearn.preprocessing import MinMaxScaler, StandardScaler\n",
    "from sklearn.model_selection import train_test_split, StratifiedKFold\n",
    "from sklearn.linear_model import LogisticRegression\n",
    "from sklearn.feature_selection import VarianceThreshold, SelectKBest, chi2, mutual_info_classif\n",
    "from sklearn.model_selection import cross_val_score\n",
    "from sklearn.metrics import confusion_matrix\n",
    "\n",
    "import seaborn as sn\n",
    "import matplotlib.pyplot as plt"
   ]
  },
  {
   "cell_type": "markdown",
   "metadata": {},
   "source": [
    "## Load and split the dataset"
   ]
  },
  {
   "cell_type": "code",
   "execution_count": 4,
   "metadata": {},
   "outputs": [],
   "source": [
    "# Training set\n",
    "X_train = pd.read_pickle(\"../data/ciriello_brca_filtered_train.pkl\")\n",
    "X_train = X_train[X_train.Ciriello_subtype != \"Normal\"]\n",
    "y_train = X_train[\"Ciriello_subtype\"]\n",
    "\n",
    "\n",
    "X_train.drop(['Ciriello_subtype'], axis=\"columns\", inplace=True)\n",
    "\n",
    "# Final test set\n",
    "X_test = pd.read_pickle(\"../data/tcga_brca_filtered_test.pkl\")\n",
    "X_test = X_test[X_test.subtype != \"Normal\"]\n",
    "y_test = X_test[\"subtype\"]\n",
    "\n",
    "X_test.drop(['subtype'], axis=\"columns\", inplace=True)\n",
    "\n",
    "# Order the features correctly\n",
    "\n",
    "X_train = X_train.reindex(sorted(X_train.columns), axis=\"columns\")\n",
    "X_test = X_test.reindex(sorted(X_test.columns), axis=\"columns\")"
   ]
  },
  {
   "cell_type": "markdown",
   "metadata": {},
   "source": [
    "### Scale the data"
   ]
  },
  {
   "cell_type": "code",
   "execution_count": 5,
   "metadata": {
    "collapsed": true
   },
   "outputs": [],
   "source": [
    "scaler = MinMaxScaler()\n",
    "scaler.fit(X_train)\n",
    "X_train_scaled = pd.DataFrame(scaler.transform(X_train), columns=X_train.columns)\n",
    "X_test_scaled = pd.DataFrame(scaler.transform(X_test), columns=X_test.columns)"
   ]
  },
  {
   "cell_type": "markdown",
   "metadata": {},
   "source": [
    "## Code to tune parameter C"
   ]
  },
  {
   "cell_type": "code",
   "execution_count": 6,
   "metadata": {},
   "outputs": [
    {
     "name": "stdout",
     "output_type": "stream",
     "text": [
      "Results: [0.175, 0.17088607594936708, 0.17088607594936708, 0.17088607594936708, 0.17088607594936708]\n",
      "C: 0.001, Accuracy: 0.17170886075949368\n",
      "Results: [0.51875, 0.5316455696202531, 0.5253164556962026, 0.5253164556962026, 0.5253164556962026]\n",
      "C: 0.01, Accuracy: 0.5252689873417722\n",
      "Results: [0.80625, 0.7784810126582279, 0.8734177215189873, 0.8670886075949367, 0.8291139240506329]\n",
      "C: 0.1, Accuracy: 0.8308702531645571\n",
      "Results: [0.85625, 0.8607594936708861, 0.8987341772151899, 0.9240506329113924, 0.8860759493670886]\n",
      "C: 1, Accuracy: 0.8851740506329113\n",
      "Results: [0.86875, 0.8987341772151899, 0.8924050632911392, 0.9177215189873418, 0.8860759493670886]\n",
      "C: 10, Accuracy: 0.8927373417721519\n",
      "Results: [0.88125, 0.8670886075949367, 0.9050632911392406, 0.8987341772151899, 0.8924050632911392]\n",
      "C: 100, Accuracy: 0.8889082278481013\n",
      "Results: [0.8625, 0.8670886075949367, 0.9113924050632911, 0.9050632911392406, 0.8860759493670886]\n",
      "C: 1000, Accuracy: 0.8864240506329114\n",
      "Results: [0.83125, 0.8354430379746836, 0.9113924050632911, 0.8860759493670886, 0.9050632911392406]\n",
      "C: 10000, Accuracy: 0.8738449367088608\n"
     ]
    },
    {
     "data": {
      "text/plain": [
       "[0.17170886075949368,\n",
       " 0.5252689873417722,\n",
       " 0.8308702531645571,\n",
       " 0.8851740506329113,\n",
       " 0.8927373417721519,\n",
       " 0.8889082278481013,\n",
       " 0.8864240506329114,\n",
       " 0.8738449367088608]"
      ]
     },
     "execution_count": 6,
     "metadata": {},
     "output_type": "execute_result"
    }
   ],
   "source": [
    "values=[0.001, 0.01, 0.1, 1, 10, 100, 1000, 10000]\n",
    "i=1\n",
    "results = pd.DataFrame(columns=[\"Index\", \"C\", \"Accuracy\"])\n",
    "mean_scores = []\n",
    "\n",
    "skf = StratifiedKFold(n_splits=5)\n",
    "for c in values:\n",
    "    scores = []\n",
    "\n",
    "    for train_index, test_index in skf.split(X_train_scaled, y_train):\n",
    "\n",
    "        X_cv_train, X_cv_val = X_train_scaled.iloc[train_index], X_train_scaled.iloc[test_index]\n",
    "        y_cv_train, y_cv_val = y_train.iloc[train_index], y_train.iloc[test_index]\n",
    "\n",
    "        clf = LogisticRegression(random_state=0, solver='liblinear', penalty=\"l1\", C=c, multi_class=\"auto\").fit(X_cv_train, y_cv_train)\n",
    "\n",
    "        score = clf.score(X_cv_val, y_cv_val)\n",
    "        results = results.append({'Fold': i, 'C' : c , 'Score' : score}, ignore_index=True)\n",
    "        scores.append(score)\n",
    "        i+=1\n",
    "\n",
    "    i=1\n",
    "    mean_scores.append(np.mean(scores))\n",
    "    print('Results: {}'.format(scores))\n",
    "    print('C: {}, Accuracy: {}'.format(c, np.mean(scores)))\n",
    "\n",
    "#results.to_csv(\"parameter_tuning/LogisticRegression/tcga_c_tuning_all_genes.csv\", index=False)\n",
    "mean_scores"
   ]
  },
  {
   "cell_type": "markdown",
   "metadata": {},
   "source": [
    "### We can see that C=10 is the best parameter, hence why we'll use it to test our model"
   ]
  },
  {
   "cell_type": "code",
   "execution_count": 7,
   "metadata": {
    "collapsed": true
   },
   "outputs": [],
   "source": [
    "clf = LogisticRegression(random_state=0, solver='liblinear', penalty=\"l1\", C=10, multi_class=\"auto\").fit(X_train_scaled, y_train)"
   ]
  },
  {
   "cell_type": "code",
   "execution_count": 8,
   "metadata": {
    "scrolled": true
   },
   "outputs": [
    {
     "name": "stdout",
     "output_type": "stream",
     "text": [
      "Confusion matrix\n",
      " [[ 42   0   1   0]\n",
      " [  0  11   1   4]\n",
      " [  0   1 119  11]\n",
      " [  0   0   3  29]]\n",
      "Accuracy 0.9054054054054054\n"
     ]
    }
   ],
   "source": [
    "final_score = clf.score(X_test_scaled, y_test)\n",
    "print('Confusion matrix\\n', confusion_matrix(y_test, clf.predict(X_test_scaled)))\n",
    "print('Accuracy', final_score)"
   ]
  },
  {
   "cell_type": "code",
   "execution_count": 7,
   "metadata": {},
   "outputs": [
    {
     "data": {
      "image/png": "[encoded data removed]",
      "text/plain": [
       "<Figure size 648x432 with 2 Axes>"
      ]
     },
     "metadata": {
      "needs_background": "light"
     },
     "output_type": "display_data"
    }
   ],
   "source": [
    "import matplotlib.pyplot as plt\n",
    "conf_matrix = pd.DataFrame(confusion_matrix(y_test, clf.predict(X_test_scaled)))\n",
    "plt.figure(figsize=(9, 6))\n",
    "sn.heatmap(conf_matrix, annot=True, fmt='g')\n",
    "conf_matrix.to_csv(\"results/LogisticRegression/tcga_confusion_matrix_all_genes.csv\")"
   ]
  },
  {
   "cell_type": "markdown",
   "metadata": {},
   "source": [
    "# Let's try to use the 5k more \"influential\""
   ]
  },
  {
   "cell_type": "markdown",
   "metadata": {},
   "source": [
    "## With mutual_info_classif"
   ]
  },
  {
   "cell_type": "code",
   "execution_count": 8,
   "metadata": {
    "collapsed": true
   },
   "outputs": [],
   "source": [
    "selector = SelectKBest(mutual_info_classif, k=5000).fit(X_train_scaled, y_train)\n",
    "relevant_idx = selector.get_support()\n",
    "relevant_genes = X_train_scaled.columns[relevant_idx]"
   ]
  },
  {
   "cell_type": "markdown",
   "metadata": {},
   "source": [
    "### Load and split the dataset"
   ]
  },
  {
   "cell_type": "code",
   "execution_count": 9,
   "metadata": {
    "collapsed": true
   },
   "outputs": [],
   "source": [
    "X_train_relevant = X_train_scaled[relevant_genes]\n",
    "X_test_relevant = X_test_scaled[relevant_genes]"
   ]
  },
  {
   "cell_type": "markdown",
   "metadata": {},
   "source": [
    "### Tune parameter C"
   ]
  },
  {
   "cell_type": "code",
   "execution_count": 10,
   "metadata": {},
   "outputs": [
    {
     "name": "stdout",
     "output_type": "stream",
     "text": [
      "5-Fold results: [0.175, 0.17088607594936708, 0.17088607594936708, 0.17088607594936708, 0.17088607594936708]\n",
      "C: 0.001, Accuracy: 0.17170886075949368\n",
      "5-Fold results: [0.51875, 0.5316455696202531, 0.5253164556962026, 0.5253164556962026, 0.5253164556962026]\n",
      "C: 0.01, Accuracy: 0.5252689873417722\n",
      "5-Fold results: [0.78125, 0.7911392405063291, 0.879746835443038, 0.8607594936708861, 0.8291139240506329]\n",
      "C: 0.1, Accuracy: 0.8284018987341772\n",
      "5-Fold results: [0.85625, 0.8734177215189873, 0.9050632911392406, 0.9177215189873418, 0.8924050632911392]\n",
      "C: 1, Accuracy: 0.8889715189873417\n",
      "5-Fold results: [0.8625, 0.8734177215189873, 0.9050632911392406, 0.930379746835443, 0.8987341772151899]\n",
      "C: 10, Accuracy: 0.8940189873417722\n",
      "5-Fold results: [0.89375, 0.879746835443038, 0.9240506329113924, 0.9367088607594937, 0.8987341772151899]\n",
      "C: 100, Accuracy: 0.9065981012658229\n",
      "5-Fold results: [0.90625, 0.879746835443038, 0.9240506329113924, 0.930379746835443, 0.8924050632911392]\n",
      "C: 1000, Accuracy: 0.9065664556962025\n",
      "5-Fold results: [0.90625, 0.8544303797468354, 0.9240506329113924, 0.9240506329113924, 0.8924050632911392]\n",
      "C: 10000, Accuracy: 0.900237341772152\n"
     ]
    },
    {
     "data": {
      "text/plain": [
       "[0.17170886075949368,\n",
       " 0.5252689873417722,\n",
       " 0.8284018987341772,\n",
       " 0.8889715189873417,\n",
       " 0.8940189873417722,\n",
       " 0.9065981012658229,\n",
       " 0.9065664556962025,\n",
       " 0.900237341772152]"
      ]
     },
     "execution_count": 10,
     "metadata": {},
     "output_type": "execute_result"
    }
   ],
   "source": [
    "values=[0.001, 0.01, 0.1, 1, 10, 100, 1000, 10000]\n",
    "i=1\n",
    "results = pd.DataFrame(columns=[\"Index\", \"C\", \"Accuracy\"])\n",
    "mean_scores = []\n",
    "\n",
    "skf = StratifiedKFold(n_splits=5)\n",
    "\n",
    "for c in values:\n",
    "    scores = []\n",
    "    \n",
    "    for train_index, test_index in skf.split(X_train_relevant, y_train):\n",
    "\n",
    "        X_cv_train, X_cv_val = X_train_relevant.iloc[train_index], X_train_relevant.iloc[test_index]\n",
    "        y_cv_train, y_cv_val = y_train.iloc[train_index], y_train.iloc[test_index]\n",
    "\n",
    "        clf = LogisticRegression(random_state=0, solver='liblinear', penalty=\"l1\", C=c, multi_class=\"auto\").fit(X_cv_train, y_cv_train)\n",
    "        \n",
    "        score = clf.score(X_cv_val, y_cv_val)\n",
    "        results = results.append({'Fold': i, 'C' : c , 'Score' : score}, ignore_index=True)\n",
    "        scores.append(score)\n",
    "        i+=1\n",
    "        \n",
    "    i=1\n",
    "    mean_scores.append(np.mean(scores))\n",
    "    print('5-Fold results: {}'.format(scores))\n",
    "    print('C: {}, Accuracy: {}'.format(c, np.mean(scores)))\n",
    "        \n",
    "results.to_csv(\"parameter_tuning/LogisticRegression/tcga_c_tuning_5k_mutual_info.csv\", index=False)\n",
    "mean_scores"
   ]
  },
  {
   "cell_type": "markdown",
   "metadata": {},
   "source": [
    "### Train the Model (best c=100)"
   ]
  },
  {
   "cell_type": "code",
   "execution_count": 11,
   "metadata": {
    "collapsed": true
   },
   "outputs": [],
   "source": [
    "clf_5k_mutual = LogisticRegression(random_state=0, solver='liblinear', penalty=\"l1\", C=100, multi_class=\"auto\").fit(X_train_relevant, y_train)"
   ]
  },
  {
   "cell_type": "code",
   "execution_count": 12,
   "metadata": {},
   "outputs": [
    {
     "name": "stdout",
     "output_type": "stream",
     "text": [
      "Confusion matrix\n",
      " [[ 43   0   0   0]\n",
      " [  0  14   1   1]\n",
      " [  0   0 123   8]\n",
      " [  0   0   6  26]]\n",
      "Accuracy 0.9279279279279279\n"
     ]
    }
   ],
   "source": [
    "final_score = clf_5k_mutual.score(X_test_relevant, y_test)\n",
    "print('Confusion matrix\\n', confusion_matrix(y_test, clf_5k_mutual.predict(X_test_relevant)))\n",
    "print('Accuracy', final_score)"
   ]
  },
  {
   "cell_type": "code",
   "execution_count": 13,
   "metadata": {},
   "outputs": [
    {
     "data": {
      "image/png": "[encoded data removed]",
      "text/plain": [
       "<Figure size 648x432 with 2 Axes>"
      ]
     },
     "metadata": {
      "needs_background": "light"
     },
     "output_type": "display_data"
    }
   ],
   "source": [
    "#How do I know the order of the labels???\n",
    "import matplotlib.pyplot as plt\n",
    "conf_matrix = pd.DataFrame(confusion_matrix(y_test, clf_5k_mutual.predict(X_test_relevant)), index = [\"Basal\", \"Her2\", \"LumA\", \"LumB\"], columns = [\"Basal\", \"Her2\", \"LumA\", \"LumB\"])\n",
    "plt.figure(figsize=(9, 6))\n",
    "sn.heatmap(conf_matrix, annot=True, fmt='g')\n",
    "conf_matrix.to_csv(\"results/LogisticRegression/tcga_confusion_matrix_5k_mutual_info.csv\")"
   ]
  },
  {
   "cell_type": "markdown",
   "metadata": {},
   "source": [
    "## With chi2"
   ]
  },
  {
   "cell_type": "code",
   "execution_count": 14,
   "metadata": {
    "collapsed": true
   },
   "outputs": [],
   "source": [
    "selector = SelectKBest(chi2, k=5000).fit(X_train_scaled, y_train)\n",
    "relevant_idx = selector.get_support()\n",
    "relevant_genes = X_train_scaled.columns[relevant_idx]"
   ]
  },
  {
   "cell_type": "code",
   "execution_count": 15,
   "metadata": {
    "collapsed": true
   },
   "outputs": [],
   "source": [
    "X_train_relevant = X_train_scaled[relevant_genes]\n",
    "X_test_relevant = X_test_scaled[relevant_genes]"
   ]
  },
  {
   "cell_type": "markdown",
   "metadata": {},
   "source": [
    "### Tune parameter C"
   ]
  },
  {
   "cell_type": "code",
   "execution_count": 16,
   "metadata": {},
   "outputs": [
    {
     "name": "stdout",
     "output_type": "stream",
     "text": [
      "5-Fold results: [0.175, 0.17088607594936708, 0.17088607594936708, 0.17088607594936708, 0.17088607594936708]\n",
      "C: 0.001, Accuracy: 0.17170886075949368\n",
      "5-Fold results: [0.51875, 0.5316455696202531, 0.5253164556962026, 0.5253164556962026, 0.5253164556962026]\n",
      "C: 0.01, Accuracy: 0.5252689873417722\n",
      "5-Fold results: [0.78125, 0.7784810126582279, 0.879746835443038, 0.8607594936708861, 0.8354430379746836]\n",
      "C: 0.1, Accuracy: 0.8271360759493671\n",
      "5-Fold results: [0.8625, 0.8670886075949367, 0.8987341772151899, 0.9493670886075949, 0.8924050632911392]\n",
      "C: 1, Accuracy: 0.8940189873417722\n",
      "5-Fold results: [0.86875, 0.8670886075949367, 0.9050632911392406, 0.9367088607594937, 0.879746835443038]\n",
      "C: 10, Accuracy: 0.8914715189873418\n",
      "5-Fold results: [0.88125, 0.8860759493670886, 0.8987341772151899, 0.9177215189873418, 0.879746835443038]\n",
      "C: 100, Accuracy: 0.8927056962025317\n",
      "5-Fold results: [0.85, 0.8734177215189873, 0.9050632911392406, 0.9050632911392406, 0.8924050632911392]\n",
      "C: 1000, Accuracy: 0.8851898734177215\n",
      "5-Fold results: [0.825, 0.879746835443038, 0.8987341772151899, 0.8924050632911392, 0.8670886075949367]\n",
      "C: 10000, Accuracy: 0.8725949367088607\n"
     ]
    },
    {
     "data": {
      "text/plain": [
       "[0.17170886075949368,\n",
       " 0.5252689873417722,\n",
       " 0.8271360759493671,\n",
       " 0.8940189873417722,\n",
       " 0.8914715189873418,\n",
       " 0.8927056962025317,\n",
       " 0.8851898734177215,\n",
       " 0.8725949367088607]"
      ]
     },
     "execution_count": 16,
     "metadata": {},
     "output_type": "execute_result"
    }
   ],
   "source": [
    "values=[0.001, 0.01, 0.1, 1, 10, 100, 1000, 10000]\n",
    "i=1\n",
    "results = pd.DataFrame(columns=[\"Index\", \"C\", \"Accuracy\"])\n",
    "mean_scores = []\n",
    "\n",
    "skf = StratifiedKFold(n_splits=5)\n",
    "\n",
    "for c in values:\n",
    "    scores = []\n",
    "    \n",
    "    for train_index, test_index in skf.split(X_train_relevant, y_train):\n",
    "\n",
    "        X_cv_train, X_cv_val = X_train_relevant.iloc[train_index], X_train_relevant.iloc[test_index]\n",
    "        y_cv_train, y_cv_val = y_train.iloc[train_index], y_train.iloc[test_index]\n",
    "\n",
    "        clf = LogisticRegression(random_state=0, solver='liblinear', penalty=\"l1\", C=c, multi_class=\"auto\").fit(X_cv_train, y_cv_train)\n",
    "        \n",
    "        score = clf.score(X_cv_val, y_cv_val)\n",
    "        results = results.append({'Fold': i, 'C' : c , 'Score' : score}, ignore_index=True)\n",
    "        scores.append(score)\n",
    "        i+=1\n",
    "        \n",
    "    i=1\n",
    "    mean_scores.append(np.mean(scores))\n",
    "    print('5-Fold results: {}'.format(scores))\n",
    "    print('C: {}, Accuracy: {}'.format(c, np.mean(scores)))\n",
    "        \n",
    "results.to_csv(\"parameter_tuning/LogisticRegression/tcga_c_tuning_5k_chi2.csv\", index=False)\n",
    "mean_scores"
   ]
  },
  {
   "cell_type": "code",
   "execution_count": 17,
   "metadata": {
    "collapsed": true
   },
   "outputs": [],
   "source": [
    "clf_5k_chi2 = LogisticRegression(random_state=0, solver='liblinear', penalty=\"l1\", C=100, multi_class=\"auto\").fit(X_train_relevant, y_train)"
   ]
  },
  {
   "cell_type": "code",
   "execution_count": 18,
   "metadata": {},
   "outputs": [
    {
     "name": "stdout",
     "output_type": "stream",
     "text": [
      "Confusion matrix\n",
      " [[ 43   0   0   0]\n",
      " [  0  12   1   3]\n",
      " [  0   1 124   6]\n",
      " [  0   0   7  25]]\n",
      "Accuracy 0.918918918918919\n"
     ]
    }
   ],
   "source": [
    "final_score = clf_5k_chi2.score(X_test_relevant, y_test)\n",
    "print('Confusion matrix\\n', confusion_matrix(y_test, clf_5k_chi2.predict(X_test_relevant)))\n",
    "print('Accuracy', final_score)"
   ]
  },
  {
   "cell_type": "code",
   "execution_count": 19,
   "metadata": {},
   "outputs": [
    {
     "data": {
      "image/png": "[encoded data removed]",
      "text/plain": [
       "<Figure size 648x432 with 2 Axes>"
      ]
     },
     "metadata": {
      "needs_background": "light"
     },
     "output_type": "display_data"
    }
   ],
   "source": [
    "#How do I know the order of the labels???\n",
    "import matplotlib.pyplot as plt\n",
    "conf_matrix = pd.DataFrame(confusion_matrix(y_test, clf_5k_chi2.predict(X_test_relevant)), index = [\"Basal\", \"Her2\", \"LumA\", \"LumB\"], columns = [\"Basal\", \"Her2\", \"LumA\", \"LumB\"])\n",
    "plt.figure(figsize=(9, 6))\n",
    "sn.heatmap(conf_matrix, annot=True, fmt='g')\n",
    "conf_matrix.to_csv(\"results/LogisticRegression/tcga_confusion_matrix_5k_chi2.csv\")"
   ]
  },
  {
   "cell_type": "code",
   "execution_count": null,
   "metadata": {
    "collapsed": true
   },
   "outputs": [],
   "source": []
  }
 ],
 "metadata": {
  "kernelspec": {
   "display_name": "thesis",
   "language": "python",
   "name": "thesis"
  },
  "language_info": {
   "codemirror_mode": {
    "name": "ipython",
    "version": 3
   },
   "file_extension": ".py",
   "mimetype": "text/x-python",
   "name": "python",
   "nbconvert_exporter": "python",
   "pygments_lexer": "ipython3",
   "version": "3.7.3"
  }
 },
 "nbformat": 4,
 "nbformat_minor": 2
}
