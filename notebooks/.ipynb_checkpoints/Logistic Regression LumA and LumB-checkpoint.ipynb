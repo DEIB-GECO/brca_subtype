{
 "cells": [
  {
   "cell_type": "markdown",
   "metadata": {},
   "source": [
    "# Logistic Regression on BRCA subset of the TCGA dataset\n",
    "#### Using Logistic Regression for breast cancer subtype classification"
   ]
  },
  {
   "cell_type": "code",
   "execution_count": 2,
   "metadata": {},
   "outputs": [],
   "source": [
    "import pandas as pd\n",
    "import numpy as np\n",
    "\n",
    "from sklearn.preprocessing import MinMaxScaler, StandardScaler\n",
    "from sklearn.model_selection import train_test_split, StratifiedKFold\n",
    "from sklearn.linear_model import LogisticRegression\n",
    "from sklearn.feature_selection import VarianceThreshold, SelectKBest, chi2, mutual_info_classif\n",
    "from sklearn.model_selection import cross_val_score\n",
    "from sklearn.metrics import confusion_matrix\n",
    "\n",
    "import seaborn as sn\n",
    "import matplotlib.pyplot as plt"
   ]
  },
  {
   "cell_type": "markdown",
   "metadata": {},
   "source": [
    "## Load and split the dataset"
   ]
  },
  {
   "cell_type": "code",
   "execution_count": 3,
   "metadata": {},
   "outputs": [],
   "source": [
    "# Training set\n",
    "X_train = pd.read_csv(\"data/ciriello_brca_filtered.csv\")\n",
    "X_train = X_train[X_train.Ciriello_subtype != \"Normal\"]\n",
    "y_train = X_train[\"Ciriello_subtype\"]\n",
    "\n",
    "X_train.drop(['Ciriello_subtype'], axis=\"columns\", inplace=True)\n",
    "\n",
    "# Final test set\n",
    "X_test = pd.read_csv(\"data/brca_final_test.csv\")\n",
    "X_test = X_test[X_test.subtype != \"Normal\"]\n",
    "y_test = X_test[\"subtype\"]\n",
    "\n",
    "X_test.drop(['subtype'], axis=\"columns\", inplace=True)\n",
    "\n",
    "# Order the features correctly\n",
    "\n",
    "X_train = X_train.reindex(sorted(X_train.columns), axis=\"columns\")\n",
    "X_test = X_test.reindex(sorted(X_test.columns), axis=\"columns\")"
   ]
  },
  {
   "cell_type": "markdown",
   "metadata": {},
   "source": [
    "### Scale the data"
   ]
  },
  {
   "cell_type": "code",
   "execution_count": 4,
   "metadata": {},
   "outputs": [],
   "source": [
    "scaler = MinMaxScaler()\n",
    "scaler.fit(X_train)\n",
    "X_train_scaled = pd.DataFrame(scaler.transform(X_train), columns=X_train.columns)\n",
    "X_test_scaled = pd.DataFrame(scaler.transform(X_test), columns=X_test.columns)"
   ]
  },
  {
   "cell_type": "markdown",
   "metadata": {},
   "source": [
    "## Code to tune parameter C"
   ]
  },
  {
   "cell_type": "code",
   "execution_count": 4,
   "metadata": {},
   "outputs": [
    {
     "name": "stdout",
     "output_type": "stream",
     "text": [
      "Iteration 1/2 of 5-Fold Cross-Validation\n",
      "Results: [0.175, 0.17088607594936708, 0.17088607594936708, 0.17088607594936708, 0.17088607594936708]\n",
      "C: 0.001, Accuracy: 0.17170886075949368\n",
      "Results: [0.51875, 0.5316455696202531, 0.5253164556962026, 0.5253164556962026, 0.5253164556962026]\n",
      "C: 0.01, Accuracy: 0.5252689873417722\n",
      "Results: [0.80625, 0.7784810126582279, 0.8734177215189873, 0.8670886075949367, 0.8291139240506329]\n",
      "C: 0.1, Accuracy: 0.8308702531645571\n",
      "Results: [0.85625, 0.8607594936708861, 0.8987341772151899, 0.9240506329113924, 0.8860759493670886]\n",
      "C: 1, Accuracy: 0.8851740506329113\n",
      "Results: [0.86875, 0.8987341772151899, 0.8924050632911392, 0.9177215189873418, 0.8860759493670886]\n",
      "C: 10, Accuracy: 0.8927373417721519\n",
      "Results: [0.88125, 0.8670886075949367, 0.9050632911392406, 0.8987341772151899, 0.8924050632911392]\n",
      "C: 100, Accuracy: 0.8889082278481013\n",
      "Results: [0.8625, 0.8670886075949367, 0.9113924050632911, 0.9050632911392406, 0.8860759493670886]\n",
      "C: 1000, Accuracy: 0.8864240506329114\n",
      "Results: [0.83125, 0.8354430379746836, 0.9113924050632911, 0.8860759493670886, 0.9050632911392406]\n",
      "C: 10000, Accuracy: 0.8738449367088608\n",
      "Iteration 2/2 of 5-Fold Cross-Validation\n",
      "Results: [0.175, 0.17088607594936708, 0.17088607594936708, 0.17088607594936708, 0.17088607594936708]\n",
      "C: 0.001, Accuracy: 0.17170886075949368\n",
      "Results: [0.51875, 0.5316455696202531, 0.5253164556962026, 0.5253164556962026, 0.5253164556962026]\n",
      "C: 0.01, Accuracy: 0.5252689873417722\n",
      "Results: [0.80625, 0.7784810126582279, 0.8734177215189873, 0.8670886075949367, 0.8291139240506329]\n",
      "C: 0.1, Accuracy: 0.8308702531645571\n",
      "Results: [0.85625, 0.8607594936708861, 0.8987341772151899, 0.9240506329113924, 0.8860759493670886]\n",
      "C: 1, Accuracy: 0.8851740506329113\n",
      "Results: [0.86875, 0.8987341772151899, 0.8924050632911392, 0.9177215189873418, 0.8860759493670886]\n",
      "C: 10, Accuracy: 0.8927373417721519\n",
      "Results: [0.88125, 0.8670886075949367, 0.9050632911392406, 0.8987341772151899, 0.8924050632911392]\n",
      "C: 100, Accuracy: 0.8889082278481013\n",
      "Results: [0.8625, 0.8670886075949367, 0.9113924050632911, 0.9050632911392406, 0.8860759493670886]\n",
      "C: 1000, Accuracy: 0.8864240506329114\n",
      "Results: [0.83125, 0.8354430379746836, 0.9113924050632911, 0.8860759493670886, 0.9050632911392406]\n",
      "C: 10000, Accuracy: 0.8738449367088608\n"
     ]
    },
    {
     "data": {
      "text/plain": [
       "[0.17170886075949368,\n",
       " 0.5252689873417722,\n",
       " 0.8308702531645571,\n",
       " 0.8851740506329113,\n",
       " 0.8927373417721519,\n",
       " 0.8889082278481013,\n",
       " 0.8864240506329114,\n",
       " 0.8738449367088608,\n",
       " 0.17170886075949368,\n",
       " 0.5252689873417722,\n",
       " 0.8308702531645571,\n",
       " 0.8851740506329113,\n",
       " 0.8927373417721519,\n",
       " 0.8889082278481013,\n",
       " 0.8864240506329114,\n",
       " 0.8738449367088608]"
      ]
     },
     "execution_count": 4,
     "metadata": {},
     "output_type": "execute_result"
    }
   ],
   "source": [
    "values=[0.001, 0.01, 0.1, 1, 10, 100, 1000, 10000]\n",
    "i=1\n",
    "results = pd.DataFrame(columns=[\"Index\", \"C\", \"Accuracy\"])\n",
    "mean_scores = []\n",
    "\n",
    "for it in range(2):\n",
    "    print('Iteration {}/2 of 5-Fold Cross-Validation'.format(it+1))\n",
    "    skf = StratifiedKFold(n_splits=5)\n",
    "    for c in values:\n",
    "        scores = []\n",
    "\n",
    "        for train_index, test_index in skf.split(X_train_scaled, y_train):\n",
    "\n",
    "            X_cv_train, X_cv_val = X_train_scaled.iloc[train_index], X_train_scaled.iloc[test_index]\n",
    "            y_cv_train, y_cv_val = y_train.iloc[train_index], y_train.iloc[test_index]\n",
    "\n",
    "            clf = LogisticRegression(random_state=0, solver='liblinear', penalty=\"l1\", C=c, multi_class=\"auto\").fit(X_cv_train, y_cv_train)\n",
    "\n",
    "            score = clf.score(X_cv_val, y_cv_val)\n",
    "            results = results.append({'Fold': i, 'C' : c , 'Score' : score}, ignore_index=True)\n",
    "            scores.append(score)\n",
    "            i+=1\n",
    "\n",
    "        i=1\n",
    "        mean_scores.append(np.mean(scores))\n",
    "        print('Results: {}'.format(scores))\n",
    "        print('C: {}, Accuracy: {}'.format(c, np.mean(scores)))\n",
    "        \n",
    "results.to_csv(\"parameter_tuning/logisticRegression_C_tuning.csv\", index=False)\n",
    "mean_scores"
   ]
  },
  {
   "cell_type": "markdown",
   "metadata": {},
   "source": [
    "### We can see that C=10 is the best parameter, hence why we'll use it to test our model"
   ]
  },
  {
   "cell_type": "code",
   "execution_count": 5,
   "metadata": {},
   "outputs": [],
   "source": [
    "clf = LogisticRegression(random_state=0, solver='liblinear', penalty=\"l1\", C=10, multi_class=\"auto\").fit(X_train, y_train)"
   ]
  },
  {
   "cell_type": "code",
   "execution_count": 6,
   "metadata": {
    "scrolled": true
   },
   "outputs": [
    {
     "name": "stdout",
     "output_type": "stream",
     "text": [
      "Confusion matrix\n",
      " [[ 43   0   0   0]\n",
      " [  0   9   1   6]\n",
      " [  0   1 110  20]\n",
      " [  0   0   2  30]]\n",
      "Accuracy 0.8648648648648649\n"
     ]
    }
   ],
   "source": [
    "final_score = clf.score(X_test_scaled, y_test)\n",
    "print('Confusion matrix\\n', confusion_matrix(y_test, clf.predict(X_test_scaled)))\n",
    "print('Accuracy', final_score)"
   ]
  },
  {
   "cell_type": "code",
   "execution_count": 19,
   "metadata": {},
   "outputs": [
    {
     "data": {
      "image/png": "[encoded data removed]",
      "text/plain": [
       "<Figure size 648x432 with 2 Axes>"
      ]
     },
     "metadata": {
      "needs_background": "light"
     },
     "output_type": "display_data"
    }
   ],
   "source": [
    "#How do I know the order of the labels???\n",
    "import matplotlib.pyplot as plt\n",
    "conf_matrix = pd.DataFrame(confusion_matrix(y_test, clf.predict(X_test_scaled)), index = [\"Basal\", \"Her2\", \"LumA\", \"LumB\"], columns = [\"Basal\", \"Her2\", \"LumA\", \"LumB\"])\n",
    "plt.figure(figsize=(9, 6))\n",
    "sn.heatmap(conf_matrix, annot=True, fmt='g')\n",
    "conf_matrix.to_csv(\"results/tcga_log_res_confusion_matrix.csv\")"
   ]
  },
  {
   "cell_type": "markdown",
   "metadata": {},
   "source": [
    "# Let's try to use the 5k more \"influential\""
   ]
  },
  {
   "cell_type": "markdown",
   "metadata": {},
   "source": [
    "## With mutual_info_classif"
   ]
  },
  {
   "cell_type": "code",
   "execution_count": 14,
   "metadata": {},
   "outputs": [
    {
     "ename": "KeyboardInterrupt",
     "evalue": "",
     "output_type": "error",
     "traceback": [
      "\u001b[0;31m---------------------------------------------------------------------------\u001b[0m",
      "\u001b[0;31mKeyboardInterrupt\u001b[0m                         Traceback (most recent call last)",
      "\u001b[0;32m<ipython-input-14-8e867aa946f4>\u001b[0m in \u001b[0;36m<module>\u001b[0;34m\u001b[0m\n\u001b[0;32m----> 1\u001b[0;31m \u001b[0mselector\u001b[0m \u001b[0;34m=\u001b[0m \u001b[0mSelectKBest\u001b[0m\u001b[0;34m(\u001b[0m\u001b[0mmutual_info_classif\u001b[0m\u001b[0;34m,\u001b[0m \u001b[0mk\u001b[0m\u001b[0;34m=\u001b[0m\u001b[0;36m5000\u001b[0m\u001b[0;34m)\u001b[0m\u001b[0;34m.\u001b[0m\u001b[0mfit\u001b[0m\u001b[0;34m(\u001b[0m\u001b[0mX_train_scaled\u001b[0m\u001b[0;34m,\u001b[0m \u001b[0my_train\u001b[0m\u001b[0;34m)\u001b[0m\u001b[0;34m\u001b[0m\u001b[0;34m\u001b[0m\u001b[0m\n\u001b[0m\u001b[1;32m      2\u001b[0m \u001b[0mrelevant_idx\u001b[0m \u001b[0;34m=\u001b[0m \u001b[0mselector\u001b[0m\u001b[0;34m.\u001b[0m\u001b[0mget_support\u001b[0m\u001b[0;34m(\u001b[0m\u001b[0;34m)\u001b[0m\u001b[0;34m\u001b[0m\u001b[0;34m\u001b[0m\u001b[0m\n\u001b[1;32m      3\u001b[0m \u001b[0mrelevant_genes\u001b[0m \u001b[0;34m=\u001b[0m \u001b[0mX_train_scaled\u001b[0m\u001b[0;34m.\u001b[0m\u001b[0mcolumns\u001b[0m\u001b[0;34m[\u001b[0m\u001b[0mrelevant_idx\u001b[0m\u001b[0;34m]\u001b[0m\u001b[0;34m\u001b[0m\u001b[0;34m\u001b[0m\u001b[0m\n",
      "\u001b[0;32m~/miniconda3/lib/python3.6/site-packages/sklearn/feature_selection/univariate_selection.py\u001b[0m in \u001b[0;36mfit\u001b[0;34m(self, X, y)\u001b[0m\n\u001b[1;32m    347\u001b[0m \u001b[0;34m\u001b[0m\u001b[0m\n\u001b[1;32m    348\u001b[0m         \u001b[0mself\u001b[0m\u001b[0;34m.\u001b[0m\u001b[0m_check_params\u001b[0m\u001b[0;34m(\u001b[0m\u001b[0mX\u001b[0m\u001b[0;34m,\u001b[0m \u001b[0my\u001b[0m\u001b[0;34m)\u001b[0m\u001b[0;34m\u001b[0m\u001b[0;34m\u001b[0m\u001b[0m\n\u001b[0;32m--> 349\u001b[0;31m         \u001b[0mscore_func_ret\u001b[0m \u001b[0;34m=\u001b[0m \u001b[0mself\u001b[0m\u001b[0;34m.\u001b[0m\u001b[0mscore_func\u001b[0m\u001b[0;34m(\u001b[0m\u001b[0mX\u001b[0m\u001b[0;34m,\u001b[0m \u001b[0my\u001b[0m\u001b[0;34m)\u001b[0m\u001b[0;34m\u001b[0m\u001b[0;34m\u001b[0m\u001b[0m\n\u001b[0m\u001b[1;32m    350\u001b[0m         \u001b[0;32mif\u001b[0m \u001b[0misinstance\u001b[0m\u001b[0;34m(\u001b[0m\u001b[0mscore_func_ret\u001b[0m\u001b[0;34m,\u001b[0m \u001b[0;34m(\u001b[0m\u001b[0mlist\u001b[0m\u001b[0;34m,\u001b[0m \u001b[0mtuple\u001b[0m\u001b[0;34m)\u001b[0m\u001b[0;34m)\u001b[0m\u001b[0;34m:\u001b[0m\u001b[0;34m\u001b[0m\u001b[0;34m\u001b[0m\u001b[0m\n\u001b[1;32m    351\u001b[0m             \u001b[0mself\u001b[0m\u001b[0;34m.\u001b[0m\u001b[0mscores_\u001b[0m\u001b[0;34m,\u001b[0m \u001b[0mself\u001b[0m\u001b[0;34m.\u001b[0m\u001b[0mpvalues_\u001b[0m \u001b[0;34m=\u001b[0m \u001b[0mscore_func_ret\u001b[0m\u001b[0;34m\u001b[0m\u001b[0;34m\u001b[0m\u001b[0m\n",
      "\u001b[0;32m~/miniconda3/lib/python3.6/site-packages/sklearn/feature_selection/mutual_info_.py\u001b[0m in \u001b[0;36mmutual_info_classif\u001b[0;34m(X, y, discrete_features, n_neighbors, copy, random_state)\u001b[0m\n\u001b[1;32m    448\u001b[0m     \u001b[0mcheck_classification_targets\u001b[0m\u001b[0;34m(\u001b[0m\u001b[0my\u001b[0m\u001b[0;34m)\u001b[0m\u001b[0;34m\u001b[0m\u001b[0;34m\u001b[0m\u001b[0m\n\u001b[1;32m    449\u001b[0m     return _estimate_mi(X, y, discrete_features, True, n_neighbors,\n\u001b[0;32m--> 450\u001b[0;31m                         copy, random_state)\n\u001b[0m",
      "\u001b[0;32m~/miniconda3/lib/python3.6/site-packages/sklearn/feature_selection/mutual_info_.py\u001b[0m in \u001b[0;36m_estimate_mi\u001b[0;34m(X, y, discrete_features, discrete_target, n_neighbors, copy, random_state)\u001b[0m\n\u001b[1;32m    287\u001b[0m \u001b[0;34m\u001b[0m\u001b[0m\n\u001b[1;32m    288\u001b[0m     mi = [_compute_mi(x, y, discrete_feature, discrete_target, n_neighbors) for\n\u001b[0;32m--> 289\u001b[0;31m           x, discrete_feature in moves.zip(_iterate_columns(X), discrete_mask)]\n\u001b[0m\u001b[1;32m    290\u001b[0m \u001b[0;34m\u001b[0m\u001b[0m\n\u001b[1;32m    291\u001b[0m     \u001b[0;32mreturn\u001b[0m \u001b[0mnp\u001b[0m\u001b[0;34m.\u001b[0m\u001b[0marray\u001b[0m\u001b[0;34m(\u001b[0m\u001b[0mmi\u001b[0m\u001b[0;34m)\u001b[0m\u001b[0;34m\u001b[0m\u001b[0;34m\u001b[0m\u001b[0m\n",
      "\u001b[0;32m~/miniconda3/lib/python3.6/site-packages/sklearn/feature_selection/mutual_info_.py\u001b[0m in \u001b[0;36m<listcomp>\u001b[0;34m(.0)\u001b[0m\n\u001b[1;32m    287\u001b[0m \u001b[0;34m\u001b[0m\u001b[0m\n\u001b[1;32m    288\u001b[0m     mi = [_compute_mi(x, y, discrete_feature, discrete_target, n_neighbors) for\n\u001b[0;32m--> 289\u001b[0;31m           x, discrete_feature in moves.zip(_iterate_columns(X), discrete_mask)]\n\u001b[0m\u001b[1;32m    290\u001b[0m \u001b[0;34m\u001b[0m\u001b[0m\n\u001b[1;32m    291\u001b[0m     \u001b[0;32mreturn\u001b[0m \u001b[0mnp\u001b[0m\u001b[0;34m.\u001b[0m\u001b[0marray\u001b[0m\u001b[0;34m(\u001b[0m\u001b[0mmi\u001b[0m\u001b[0;34m)\u001b[0m\u001b[0;34m\u001b[0m\u001b[0;34m\u001b[0m\u001b[0m\n",
      "\u001b[0;32m~/miniconda3/lib/python3.6/site-packages/sklearn/feature_selection/mutual_info_.py\u001b[0m in \u001b[0;36m_compute_mi\u001b[0;34m(x, y, x_discrete, y_discrete, n_neighbors)\u001b[0m\n\u001b[1;32m    159\u001b[0m         \u001b[0;32mreturn\u001b[0m \u001b[0m_compute_mi_cd\u001b[0m\u001b[0;34m(\u001b[0m\u001b[0my\u001b[0m\u001b[0;34m,\u001b[0m \u001b[0mx\u001b[0m\u001b[0;34m,\u001b[0m \u001b[0mn_neighbors\u001b[0m\u001b[0;34m)\u001b[0m\u001b[0;34m\u001b[0m\u001b[0;34m\u001b[0m\u001b[0m\n\u001b[1;32m    160\u001b[0m     \u001b[0;32melif\u001b[0m \u001b[0;32mnot\u001b[0m \u001b[0mx_discrete\u001b[0m \u001b[0;32mand\u001b[0m \u001b[0my_discrete\u001b[0m\u001b[0;34m:\u001b[0m\u001b[0;34m\u001b[0m\u001b[0;34m\u001b[0m\u001b[0m\n\u001b[0;32m--> 161\u001b[0;31m         \u001b[0;32mreturn\u001b[0m \u001b[0m_compute_mi_cd\u001b[0m\u001b[0;34m(\u001b[0m\u001b[0mx\u001b[0m\u001b[0;34m,\u001b[0m \u001b[0my\u001b[0m\u001b[0;34m,\u001b[0m \u001b[0mn_neighbors\u001b[0m\u001b[0;34m)\u001b[0m\u001b[0;34m\u001b[0m\u001b[0;34m\u001b[0m\u001b[0m\n\u001b[0m\u001b[1;32m    162\u001b[0m     \u001b[0;32melse\u001b[0m\u001b[0;34m:\u001b[0m\u001b[0;34m\u001b[0m\u001b[0;34m\u001b[0m\u001b[0m\n\u001b[1;32m    163\u001b[0m         \u001b[0;32mreturn\u001b[0m \u001b[0m_compute_mi_cc\u001b[0m\u001b[0;34m(\u001b[0m\u001b[0mx\u001b[0m\u001b[0;34m,\u001b[0m \u001b[0my\u001b[0m\u001b[0;34m,\u001b[0m \u001b[0mn_neighbors\u001b[0m\u001b[0;34m)\u001b[0m\u001b[0;34m\u001b[0m\u001b[0;34m\u001b[0m\u001b[0m\n",
      "\u001b[0;32m~/miniconda3/lib/python3.6/site-packages/sklearn/feature_selection/mutual_info_.py\u001b[0m in \u001b[0;36m_compute_mi_cd\u001b[0;34m(c, d, n_neighbors)\u001b[0m\n\u001b[1;32m    138\u001b[0m     \u001b[0mnn\u001b[0m\u001b[0;34m.\u001b[0m\u001b[0mset_params\u001b[0m\u001b[0;34m(\u001b[0m\u001b[0malgorithm\u001b[0m\u001b[0;34m=\u001b[0m\u001b[0;34m'kd_tree'\u001b[0m\u001b[0;34m)\u001b[0m\u001b[0;34m\u001b[0m\u001b[0;34m\u001b[0m\u001b[0m\n\u001b[1;32m    139\u001b[0m     \u001b[0mnn\u001b[0m\u001b[0;34m.\u001b[0m\u001b[0mfit\u001b[0m\u001b[0;34m(\u001b[0m\u001b[0mc\u001b[0m\u001b[0;34m)\u001b[0m\u001b[0;34m\u001b[0m\u001b[0;34m\u001b[0m\u001b[0m\n\u001b[0;32m--> 140\u001b[0;31m     \u001b[0mind\u001b[0m \u001b[0;34m=\u001b[0m \u001b[0mnn\u001b[0m\u001b[0;34m.\u001b[0m\u001b[0mradius_neighbors\u001b[0m\u001b[0;34m(\u001b[0m\u001b[0mradius\u001b[0m\u001b[0;34m=\u001b[0m\u001b[0mradius\u001b[0m\u001b[0;34m,\u001b[0m \u001b[0mreturn_distance\u001b[0m\u001b[0;34m=\u001b[0m\u001b[0;32mFalse\u001b[0m\u001b[0;34m)\u001b[0m\u001b[0;34m\u001b[0m\u001b[0;34m\u001b[0m\u001b[0m\n\u001b[0m\u001b[1;32m    141\u001b[0m     \u001b[0mm_all\u001b[0m \u001b[0;34m=\u001b[0m \u001b[0mnp\u001b[0m\u001b[0;34m.\u001b[0m\u001b[0marray\u001b[0m\u001b[0;34m(\u001b[0m\u001b[0;34m[\u001b[0m\u001b[0mi\u001b[0m\u001b[0;34m.\u001b[0m\u001b[0msize\u001b[0m \u001b[0;32mfor\u001b[0m \u001b[0mi\u001b[0m \u001b[0;32min\u001b[0m \u001b[0mind\u001b[0m\u001b[0;34m]\u001b[0m\u001b[0;34m)\u001b[0m\u001b[0;34m\u001b[0m\u001b[0;34m\u001b[0m\u001b[0m\n\u001b[1;32m    142\u001b[0m \u001b[0;34m\u001b[0m\u001b[0m\n",
      "\u001b[0;32m~/miniconda3/lib/python3.6/site-packages/sklearn/neighbors/base.py\u001b[0m in \u001b[0;36mradius_neighbors\u001b[0;34m(self, X, radius, return_distance)\u001b[0m\n\u001b[1;32m    745\u001b[0m             results = Parallel(n_jobs, **parallel_kwargs)(\n\u001b[1;32m    746\u001b[0m                 \u001b[0mdelayed_query\u001b[0m\u001b[0;34m(\u001b[0m\u001b[0mself\u001b[0m\u001b[0;34m.\u001b[0m\u001b[0m_tree\u001b[0m\u001b[0;34m,\u001b[0m \u001b[0mX\u001b[0m\u001b[0;34m[\u001b[0m\u001b[0ms\u001b[0m\u001b[0;34m]\u001b[0m\u001b[0;34m,\u001b[0m \u001b[0mradius\u001b[0m\u001b[0;34m,\u001b[0m \u001b[0mreturn_distance\u001b[0m\u001b[0;34m)\u001b[0m\u001b[0;34m\u001b[0m\u001b[0;34m\u001b[0m\u001b[0m\n\u001b[0;32m--> 747\u001b[0;31m                 \u001b[0;32mfor\u001b[0m \u001b[0ms\u001b[0m \u001b[0;32min\u001b[0m \u001b[0mgen_even_slices\u001b[0m\u001b[0;34m(\u001b[0m\u001b[0mX\u001b[0m\u001b[0;34m.\u001b[0m\u001b[0mshape\u001b[0m\u001b[0;34m[\u001b[0m\u001b[0;36m0\u001b[0m\u001b[0;34m]\u001b[0m\u001b[0;34m,\u001b[0m \u001b[0mn_jobs\u001b[0m\u001b[0;34m)\u001b[0m\u001b[0;34m\u001b[0m\u001b[0;34m\u001b[0m\u001b[0m\n\u001b[0m\u001b[1;32m    748\u001b[0m             )\n\u001b[1;32m    749\u001b[0m             \u001b[0;32mif\u001b[0m \u001b[0mreturn_distance\u001b[0m\u001b[0;34m:\u001b[0m\u001b[0;34m\u001b[0m\u001b[0;34m\u001b[0m\u001b[0m\n",
      "\u001b[0;32m~/miniconda3/lib/python3.6/site-packages/sklearn/externals/joblib/parallel.py\u001b[0m in \u001b[0;36m__call__\u001b[0;34m(self, iterable)\u001b[0m\n\u001b[1;32m    915\u001b[0m             \u001b[0;31m# remaining jobs.\u001b[0m\u001b[0;34m\u001b[0m\u001b[0;34m\u001b[0m\u001b[0;34m\u001b[0m\u001b[0m\n\u001b[1;32m    916\u001b[0m             \u001b[0mself\u001b[0m\u001b[0;34m.\u001b[0m\u001b[0m_iterating\u001b[0m \u001b[0;34m=\u001b[0m \u001b[0;32mFalse\u001b[0m\u001b[0;34m\u001b[0m\u001b[0;34m\u001b[0m\u001b[0m\n\u001b[0;32m--> 917\u001b[0;31m             \u001b[0;32mif\u001b[0m \u001b[0mself\u001b[0m\u001b[0;34m.\u001b[0m\u001b[0mdispatch_one_batch\u001b[0m\u001b[0;34m(\u001b[0m\u001b[0miterator\u001b[0m\u001b[0;34m)\u001b[0m\u001b[0;34m:\u001b[0m\u001b[0;34m\u001b[0m\u001b[0;34m\u001b[0m\u001b[0m\n\u001b[0m\u001b[1;32m    918\u001b[0m                 \u001b[0mself\u001b[0m\u001b[0;34m.\u001b[0m\u001b[0m_iterating\u001b[0m \u001b[0;34m=\u001b[0m \u001b[0mself\u001b[0m\u001b[0;34m.\u001b[0m\u001b[0m_original_iterator\u001b[0m \u001b[0;32mis\u001b[0m \u001b[0;32mnot\u001b[0m \u001b[0;32mNone\u001b[0m\u001b[0;34m\u001b[0m\u001b[0;34m\u001b[0m\u001b[0m\n\u001b[1;32m    919\u001b[0m \u001b[0;34m\u001b[0m\u001b[0m\n",
      "\u001b[0;32m~/miniconda3/lib/python3.6/site-packages/sklearn/externals/joblib/parallel.py\u001b[0m in \u001b[0;36mdispatch_one_batch\u001b[0;34m(self, iterator)\u001b[0m\n\u001b[1;32m    757\u001b[0m                 \u001b[0;32mreturn\u001b[0m \u001b[0;32mFalse\u001b[0m\u001b[0;34m\u001b[0m\u001b[0;34m\u001b[0m\u001b[0m\n\u001b[1;32m    758\u001b[0m             \u001b[0;32melse\u001b[0m\u001b[0;34m:\u001b[0m\u001b[0;34m\u001b[0m\u001b[0;34m\u001b[0m\u001b[0m\n\u001b[0;32m--> 759\u001b[0;31m                 \u001b[0mself\u001b[0m\u001b[0;34m.\u001b[0m\u001b[0m_dispatch\u001b[0m\u001b[0;34m(\u001b[0m\u001b[0mtasks\u001b[0m\u001b[0;34m)\u001b[0m\u001b[0;34m\u001b[0m\u001b[0;34m\u001b[0m\u001b[0m\n\u001b[0m\u001b[1;32m    760\u001b[0m                 \u001b[0;32mreturn\u001b[0m \u001b[0;32mTrue\u001b[0m\u001b[0;34m\u001b[0m\u001b[0;34m\u001b[0m\u001b[0m\n\u001b[1;32m    761\u001b[0m \u001b[0;34m\u001b[0m\u001b[0m\n",
      "\u001b[0;32m~/miniconda3/lib/python3.6/site-packages/sklearn/externals/joblib/parallel.py\u001b[0m in \u001b[0;36m_dispatch\u001b[0;34m(self, batch)\u001b[0m\n\u001b[1;32m    714\u001b[0m         \u001b[0;32mwith\u001b[0m \u001b[0mself\u001b[0m\u001b[0;34m.\u001b[0m\u001b[0m_lock\u001b[0m\u001b[0;34m:\u001b[0m\u001b[0;34m\u001b[0m\u001b[0;34m\u001b[0m\u001b[0m\n\u001b[1;32m    715\u001b[0m             \u001b[0mjob_idx\u001b[0m \u001b[0;34m=\u001b[0m \u001b[0mlen\u001b[0m\u001b[0;34m(\u001b[0m\u001b[0mself\u001b[0m\u001b[0;34m.\u001b[0m\u001b[0m_jobs\u001b[0m\u001b[0;34m)\u001b[0m\u001b[0;34m\u001b[0m\u001b[0;34m\u001b[0m\u001b[0m\n\u001b[0;32m--> 716\u001b[0;31m             \u001b[0mjob\u001b[0m \u001b[0;34m=\u001b[0m \u001b[0mself\u001b[0m\u001b[0;34m.\u001b[0m\u001b[0m_backend\u001b[0m\u001b[0;34m.\u001b[0m\u001b[0mapply_async\u001b[0m\u001b[0;34m(\u001b[0m\u001b[0mbatch\u001b[0m\u001b[0;34m,\u001b[0m \u001b[0mcallback\u001b[0m\u001b[0;34m=\u001b[0m\u001b[0mcb\u001b[0m\u001b[0;34m)\u001b[0m\u001b[0;34m\u001b[0m\u001b[0;34m\u001b[0m\u001b[0m\n\u001b[0m\u001b[1;32m    717\u001b[0m             \u001b[0;31m# A job can complete so quickly than its callback is\u001b[0m\u001b[0;34m\u001b[0m\u001b[0;34m\u001b[0m\u001b[0;34m\u001b[0m\u001b[0m\n\u001b[1;32m    718\u001b[0m             \u001b[0;31m# called before we get here, causing self._jobs to\u001b[0m\u001b[0;34m\u001b[0m\u001b[0;34m\u001b[0m\u001b[0;34m\u001b[0m\u001b[0m\n",
      "\u001b[0;32m~/miniconda3/lib/python3.6/site-packages/sklearn/externals/joblib/_parallel_backends.py\u001b[0m in \u001b[0;36mapply_async\u001b[0;34m(self, func, callback)\u001b[0m\n\u001b[1;32m    180\u001b[0m     \u001b[0;32mdef\u001b[0m \u001b[0mapply_async\u001b[0m\u001b[0;34m(\u001b[0m\u001b[0mself\u001b[0m\u001b[0;34m,\u001b[0m \u001b[0mfunc\u001b[0m\u001b[0;34m,\u001b[0m \u001b[0mcallback\u001b[0m\u001b[0;34m=\u001b[0m\u001b[0;32mNone\u001b[0m\u001b[0;34m)\u001b[0m\u001b[0;34m:\u001b[0m\u001b[0;34m\u001b[0m\u001b[0;34m\u001b[0m\u001b[0m\n\u001b[1;32m    181\u001b[0m         \u001b[0;34m\"\"\"Schedule a func to be run\"\"\"\u001b[0m\u001b[0;34m\u001b[0m\u001b[0;34m\u001b[0m\u001b[0m\n\u001b[0;32m--> 182\u001b[0;31m         \u001b[0mresult\u001b[0m \u001b[0;34m=\u001b[0m \u001b[0mImmediateResult\u001b[0m\u001b[0;34m(\u001b[0m\u001b[0mfunc\u001b[0m\u001b[0;34m)\u001b[0m\u001b[0;34m\u001b[0m\u001b[0;34m\u001b[0m\u001b[0m\n\u001b[0m\u001b[1;32m    183\u001b[0m         \u001b[0;32mif\u001b[0m \u001b[0mcallback\u001b[0m\u001b[0;34m:\u001b[0m\u001b[0;34m\u001b[0m\u001b[0;34m\u001b[0m\u001b[0m\n\u001b[1;32m    184\u001b[0m             \u001b[0mcallback\u001b[0m\u001b[0;34m(\u001b[0m\u001b[0mresult\u001b[0m\u001b[0;34m)\u001b[0m\u001b[0;34m\u001b[0m\u001b[0;34m\u001b[0m\u001b[0m\n",
      "\u001b[0;32m~/miniconda3/lib/python3.6/site-packages/sklearn/externals/joblib/_parallel_backends.py\u001b[0m in \u001b[0;36m__init__\u001b[0;34m(self, batch)\u001b[0m\n\u001b[1;32m    547\u001b[0m         \u001b[0;31m# Don't delay the application, to avoid keeping the input\u001b[0m\u001b[0;34m\u001b[0m\u001b[0;34m\u001b[0m\u001b[0;34m\u001b[0m\u001b[0m\n\u001b[1;32m    548\u001b[0m         \u001b[0;31m# arguments in memory\u001b[0m\u001b[0;34m\u001b[0m\u001b[0;34m\u001b[0m\u001b[0;34m\u001b[0m\u001b[0m\n\u001b[0;32m--> 549\u001b[0;31m         \u001b[0mself\u001b[0m\u001b[0;34m.\u001b[0m\u001b[0mresults\u001b[0m \u001b[0;34m=\u001b[0m \u001b[0mbatch\u001b[0m\u001b[0;34m(\u001b[0m\u001b[0;34m)\u001b[0m\u001b[0;34m\u001b[0m\u001b[0;34m\u001b[0m\u001b[0m\n\u001b[0m\u001b[1;32m    550\u001b[0m \u001b[0;34m\u001b[0m\u001b[0m\n\u001b[1;32m    551\u001b[0m     \u001b[0;32mdef\u001b[0m \u001b[0mget\u001b[0m\u001b[0;34m(\u001b[0m\u001b[0mself\u001b[0m\u001b[0;34m)\u001b[0m\u001b[0;34m:\u001b[0m\u001b[0;34m\u001b[0m\u001b[0;34m\u001b[0m\u001b[0m\n",
      "\u001b[0;32m~/miniconda3/lib/python3.6/site-packages/sklearn/externals/joblib/parallel.py\u001b[0m in \u001b[0;36m__call__\u001b[0;34m(self)\u001b[0m\n\u001b[1;32m    223\u001b[0m         \u001b[0;32mwith\u001b[0m \u001b[0mparallel_backend\u001b[0m\u001b[0;34m(\u001b[0m\u001b[0mself\u001b[0m\u001b[0;34m.\u001b[0m\u001b[0m_backend\u001b[0m\u001b[0;34m,\u001b[0m \u001b[0mn_jobs\u001b[0m\u001b[0;34m=\u001b[0m\u001b[0mself\u001b[0m\u001b[0;34m.\u001b[0m\u001b[0m_n_jobs\u001b[0m\u001b[0;34m)\u001b[0m\u001b[0;34m:\u001b[0m\u001b[0;34m\u001b[0m\u001b[0;34m\u001b[0m\u001b[0m\n\u001b[1;32m    224\u001b[0m             return [func(*args, **kwargs)\n\u001b[0;32m--> 225\u001b[0;31m                     for func, args, kwargs in self.items]\n\u001b[0m\u001b[1;32m    226\u001b[0m \u001b[0;34m\u001b[0m\u001b[0m\n\u001b[1;32m    227\u001b[0m     \u001b[0;32mdef\u001b[0m \u001b[0m__len__\u001b[0m\u001b[0;34m(\u001b[0m\u001b[0mself\u001b[0m\u001b[0;34m)\u001b[0m\u001b[0;34m:\u001b[0m\u001b[0;34m\u001b[0m\u001b[0;34m\u001b[0m\u001b[0m\n",
      "\u001b[0;32m~/miniconda3/lib/python3.6/site-packages/sklearn/externals/joblib/parallel.py\u001b[0m in \u001b[0;36m<listcomp>\u001b[0;34m(.0)\u001b[0m\n\u001b[1;32m    223\u001b[0m         \u001b[0;32mwith\u001b[0m \u001b[0mparallel_backend\u001b[0m\u001b[0;34m(\u001b[0m\u001b[0mself\u001b[0m\u001b[0;34m.\u001b[0m\u001b[0m_backend\u001b[0m\u001b[0;34m,\u001b[0m \u001b[0mn_jobs\u001b[0m\u001b[0;34m=\u001b[0m\u001b[0mself\u001b[0m\u001b[0;34m.\u001b[0m\u001b[0m_n_jobs\u001b[0m\u001b[0;34m)\u001b[0m\u001b[0;34m:\u001b[0m\u001b[0;34m\u001b[0m\u001b[0;34m\u001b[0m\u001b[0m\n\u001b[1;32m    224\u001b[0m             return [func(*args, **kwargs)\n\u001b[0;32m--> 225\u001b[0;31m                     for func, args, kwargs in self.items]\n\u001b[0m\u001b[1;32m    226\u001b[0m \u001b[0;34m\u001b[0m\u001b[0m\n\u001b[1;32m    227\u001b[0m     \u001b[0;32mdef\u001b[0m \u001b[0m__len__\u001b[0m\u001b[0;34m(\u001b[0m\u001b[0mself\u001b[0m\u001b[0;34m)\u001b[0m\u001b[0;34m:\u001b[0m\u001b[0;34m\u001b[0m\u001b[0;34m\u001b[0m\u001b[0m\n",
      "\u001b[0;32m~/miniconda3/lib/python3.6/site-packages/sklearn/neighbors/base.py\u001b[0m in \u001b[0;36m_tree_query_radius_parallel_helper\u001b[0;34m(tree, data, radius, return_distance)\u001b[0m\n\u001b[1;32m    578\u001b[0m     \u001b[0mcloudpickle\u001b[0m \u001b[0munder\u001b[0m \u001b[0mPyPy\u001b[0m\u001b[0;34m.\u001b[0m\u001b[0;34m\u001b[0m\u001b[0;34m\u001b[0m\u001b[0m\n\u001b[1;32m    579\u001b[0m     \"\"\"\n\u001b[0;32m--> 580\u001b[0;31m     \u001b[0;32mreturn\u001b[0m \u001b[0mtree\u001b[0m\u001b[0;34m.\u001b[0m\u001b[0mquery_radius\u001b[0m\u001b[0;34m(\u001b[0m\u001b[0mdata\u001b[0m\u001b[0;34m,\u001b[0m \u001b[0mradius\u001b[0m\u001b[0;34m,\u001b[0m \u001b[0mreturn_distance\u001b[0m\u001b[0;34m)\u001b[0m\u001b[0;34m\u001b[0m\u001b[0;34m\u001b[0m\u001b[0m\n\u001b[0m\u001b[1;32m    581\u001b[0m \u001b[0;34m\u001b[0m\u001b[0m\n\u001b[1;32m    582\u001b[0m \u001b[0;34m\u001b[0m\u001b[0m\n",
      "\u001b[0;31mKeyboardInterrupt\u001b[0m: "
     ]
    }
   ],
   "source": [
    "selector = SelectKBest(mutual_info_classif, k=5000).fit(X_train_scaled, y_train)\n",
    "relevant_idx = selector.get_support()\n",
    "relevant_genes = X_train_scaled.columns[relevant_idx]"
   ]
  },
  {
   "cell_type": "markdown",
   "metadata": {},
   "source": [
    "### Load and split the dataset"
   ]
  },
  {
   "cell_type": "code",
   "execution_count": 23,
   "metadata": {},
   "outputs": [],
   "source": [
    "X_train_relevant = X_train_scaled[relevant_genes]\n",
    "X_test_relevant = X_test_scaled[relevant_genes]"
   ]
  },
  {
   "cell_type": "markdown",
   "metadata": {},
   "source": [
    "### Tune parameter C"
   ]
  },
  {
   "cell_type": "code",
   "execution_count": 24,
   "metadata": {},
   "outputs": [
    {
     "name": "stdout",
     "output_type": "stream",
     "text": [
      "5-Fold results: [0.175, 0.17088607594936708, 0.17088607594936708, 0.17088607594936708, 0.17088607594936708]\n",
      "C: 0.001, Accuracy: 0.17170886075949368\n",
      "5-Fold results: [0.51875, 0.5316455696202531, 0.5253164556962026, 0.5253164556962026, 0.5253164556962026]\n",
      "C: 0.01, Accuracy: 0.5252689873417722\n",
      "5-Fold results: [0.7875, 0.7848101265822784, 0.8734177215189873, 0.8544303797468354, 0.8354430379746836]\n",
      "C: 0.1, Accuracy: 0.827120253164557\n",
      "5-Fold results: [0.8625, 0.8734177215189873, 0.8924050632911392, 0.9113924050632911, 0.8924050632911392]\n",
      "C: 1, Accuracy: 0.8864240506329114\n",
      "5-Fold results: [0.8625, 0.8860759493670886, 0.8987341772151899, 0.930379746835443, 0.8924050632911392]\n",
      "C: 10, Accuracy: 0.8940189873417722\n",
      "5-Fold results: [0.89375, 0.8924050632911392, 0.930379746835443, 0.930379746835443, 0.8924050632911392]\n",
      "C: 100, Accuracy: 0.907863924050633\n",
      "5-Fold results: [0.89375, 0.879746835443038, 0.930379746835443, 0.9177215189873418, 0.8924050632911392]\n",
      "C: 1000, Accuracy: 0.9028006329113925\n",
      "5-Fold results: [0.88125, 0.8544303797468354, 0.930379746835443, 0.8987341772151899, 0.8924050632911392]\n",
      "C: 10000, Accuracy: 0.8914398734177216\n"
     ]
    },
    {
     "data": {
      "text/plain": [
       "[0.17170886075949368,\n",
       " 0.5252689873417722,\n",
       " 0.827120253164557,\n",
       " 0.8864240506329114,\n",
       " 0.8940189873417722,\n",
       " 0.907863924050633,\n",
       " 0.9028006329113925,\n",
       " 0.8914398734177216]"
      ]
     },
     "execution_count": 24,
     "metadata": {},
     "output_type": "execute_result"
    }
   ],
   "source": [
    "values=[0.001, 0.01, 0.1, 1, 10, 100, 1000, 10000]\n",
    "i=1\n",
    "results = pd.DataFrame(columns=[\"Index\", \"C\", \"Accuracy\"])\n",
    "mean_scores = []\n",
    "\n",
    "skf = StratifiedKFold(n_splits=5)\n",
    "\n",
    "for c in values:\n",
    "    scores = []\n",
    "    \n",
    "    for train_index, test_index in skf.split(X_train_relevant, y_train):\n",
    "\n",
    "        X_cv_train, X_cv_val = X_train_relevant.iloc[train_index], X_train_relevant.iloc[test_index]\n",
    "        y_cv_train, y_cv_val = y_train.iloc[train_index], y_train.iloc[test_index]\n",
    "\n",
    "        clf = LogisticRegression(random_state=0, solver='liblinear', penalty=\"l1\", C=c, multi_class=\"auto\").fit(X_cv_train, y_cv_train)\n",
    "        \n",
    "        score = clf.score(X_cv_val, y_cv_val)\n",
    "        results = results.append({'Fold': i, 'C' : c , 'Score' : score}, ignore_index=True)\n",
    "        scores.append(score)\n",
    "        i+=1\n",
    "        \n",
    "    i=1\n",
    "    mean_scores.append(np.mean(scores))\n",
    "    print('5-Fold results: {}'.format(scores))\n",
    "    print('C: {}, Accuracy: {}'.format(c, np.mean(scores)))\n",
    "        \n",
    "results.to_csv(\"parameter_tuning/logisticRegression_C_tuning_5k_mutual_info.csv\", index=False)\n",
    "mean_scores"
   ]
  },
  {
   "cell_type": "markdown",
   "metadata": {},
   "source": [
    "### Train the Model"
   ]
  },
  {
   "cell_type": "code",
   "execution_count": 25,
   "metadata": {},
   "outputs": [],
   "source": [
    "clf_5k = LogisticRegression(random_state=0, solver='liblinear', penalty=\"l1\", C=100, multi_class=\"auto\").fit(X_train_relevant, y_train)"
   ]
  },
  {
   "cell_type": "code",
   "execution_count": 26,
   "metadata": {},
   "outputs": [
    {
     "name": "stdout",
     "output_type": "stream",
     "text": [
      "Confusion matrix\n",
      " [[ 42   0   0   1]\n",
      " [  0  11   0   5]\n",
      " [  0   0 108  23]\n",
      " [  0   0   2  30]]\n",
      "Accuracy 0.8603603603603603\n"
     ]
    }
   ],
   "source": [
    "final_score = clf.score(X_test_relevant, y_test)\n",
    "print('Confusion matrix\\n', confusion_matrix(y_test, clf.predict(X_test_relevant)))\n",
    "print('Accuracy', final_score)"
   ]
  },
  {
   "cell_type": "code",
   "execution_count": 27,
   "metadata": {},
   "outputs": [
    {
     "data": {
      "image/png": "[encoded data removed]",
      "text/plain": [
       "<Figure size 648x432 with 2 Axes>"
      ]
     },
     "metadata": {
      "needs_background": "light"
     },
     "output_type": "display_data"
    }
   ],
   "source": [
    "#How do I know the order of the labels???\n",
    "import matplotlib.pyplot as plt\n",
    "conf_matrix = pd.DataFrame(confusion_matrix(y_test, clf.predict(X_test_relevant)), index = [\"Basal\", \"Her2\", \"LumA\", \"LumB\"], columns = [\"Basal\", \"Her2\", \"LumA\", \"LumB\"])\n",
    "plt.figure(figsize=(9, 6))\n",
    "sn.heatmap(conf_matrix, annot=True, fmt='g')\n",
    "conf_matrix.to_csv(\"results/tcga_log_res_confusion_matrix_5k_mutual_info.csv\")"
   ]
  },
  {
   "cell_type": "markdown",
   "metadata": {},
   "source": [
    "## With chi2"
   ]
  },
  {
   "cell_type": "code",
   "execution_count": 5,
   "metadata": {},
   "outputs": [],
   "source": [
    "import numpy as np\n",
    "\n",
    "\n",
    "def plot_confusion_matrix(cm,\n",
    "                          target_names,\n",
    "                          title='Confusion matrix',\n",
    "                          cmap=None,\n",
    "                          normalize=True):\n",
    "    \"\"\"\n",
    "    given a sklearn confusion matrix (cm), make a nice plot\n",
    "\n",
    "    Arguments\n",
    "    ---------\n",
    "    cm:           confusion matrix from sklearn.metrics.confusion_matrix\n",
    "\n",
    "    target_names: given classification classes such as [0, 1, 2]\n",
    "                  the class names, for example: ['high', 'medium', 'low']\n",
    "\n",
    "    title:        the text to display at the top of the matrix\n",
    "\n",
    "    cmap:         the gradient of the values displayed from matplotlib.pyplot.cm\n",
    "                  see http://matplotlib.org/examples/color/colormaps_reference.html\n",
    "                  plt.get_cmap('jet') or plt.cm.Blues\n",
    "\n",
    "    normalize:    If False, plot the raw numbers\n",
    "                  If True, plot the proportions\n",
    "\n",
    "    Usage\n",
    "    -----\n",
    "    plot_confusion_matrix(cm           = cm,                  # confusion matrix created by\n",
    "                                                              # sklearn.metrics.confusion_matrix\n",
    "                          normalize    = True,                # show proportions\n",
    "                          target_names = y_labels_vals,       # list of names of the classes\n",
    "                          title        = best_estimator_name) # title of graph\n",
    "\n",
    "    Citiation\n",
    "    ---------\n",
    "    http://scikit-learn.org/stable/auto_examples/model_selection/plot_confusion_matrix.html\n",
    "\n",
    "    \"\"\"\n",
    "    import matplotlib.pyplot as plt\n",
    "    import numpy as np\n",
    "    import itertools\n",
    "\n",
    "    accuracy = np.trace(cm) / float(np.sum(cm))\n",
    "    misclass = 1 - accuracy\n",
    "\n",
    "    if cmap is None:\n",
    "        cmap = plt.get_cmap('Blues')\n",
    "\n",
    "    plt.figure(figsize=(8, 6))\n",
    "    plt.imshow(cm, interpolation='nearest', cmap=cmap)\n",
    "    plt.title(title)\n",
    "    plt.colorbar()\n",
    "\n",
    "    if target_names is not None:\n",
    "        tick_marks = np.arange(len(target_names))\n",
    "        plt.xticks(tick_marks, target_names, rotation=45)\n",
    "        plt.yticks(tick_marks, target_names)\n",
    "\n",
    "    if normalize:\n",
    "        cm = cm.astype('float') / cm.sum(axis=1)[:, np.newaxis]\n",
    "\n",
    "\n",
    "    thresh = cm.max() / 1.5 if normalize else cm.max() / 2\n",
    "    for i, j in itertools.product(range(cm.shape[0]), range(cm.shape[1])):\n",
    "        if normalize:\n",
    "            plt.text(j, i, \"{:0.4f}\".format(cm[i, j]),\n",
    "                     horizontalalignment=\"center\",\n",
    "                     color=\"white\" if cm[i, j] > thresh else \"black\")\n",
    "        else:\n",
    "            plt.text(j, i, \"{:,}\".format(cm[i, j]),\n",
    "                     horizontalalignment=\"center\",\n",
    "                     color=\"white\" if cm[i, j] > thresh else \"black\")\n",
    "\n",
    "\n",
    "    plt.tight_layout()\n",
    "    plt.ylabel('True label')\n",
    "    plt.xlabel('Predicted label\\naccuracy={:0.4f}; misclass={:0.4f}'.format(accuracy, misclass))\n",
    "    plt.show()"
   ]
  },
  {
   "cell_type": "code",
   "execution_count": 6,
   "metadata": {},
   "outputs": [],
   "source": [
    "selector = SelectKBest(chi2, k=5000).fit(X_train_scaled, y_train)\n",
    "relevant_idx = selector.get_support()\n",
    "relevant_genes = X_train_scaled.columns[relevant_idx]"
   ]
  },
  {
   "cell_type": "code",
   "execution_count": 7,
   "metadata": {},
   "outputs": [],
   "source": [
    "X_train_relevant = X_train_scaled[relevant_genes]\n",
    "X_test_relevant = X_test_scaled[relevant_genes]"
   ]
  },
  {
   "cell_type": "code",
   "execution_count": 8,
   "metadata": {},
   "outputs": [],
   "source": [
    "### Tune parameter C"
   ]
  },
  {
   "cell_type": "code",
   "execution_count": 9,
   "metadata": {},
   "outputs": [
    {
     "name": "stdout",
     "output_type": "stream",
     "text": [
      "5-Fold results: [0.175, 0.17088607594936708, 0.17088607594936708, 0.17088607594936708, 0.17088607594936708]\n",
      "C: 0.001, Accuracy: 0.17170886075949368\n",
      "5-Fold results: [0.51875, 0.5316455696202531, 0.5253164556962026, 0.5253164556962026, 0.5253164556962026]\n",
      "C: 0.01, Accuracy: 0.5252689873417722\n",
      "5-Fold results: [0.78125, 0.7784810126582279, 0.879746835443038, 0.8607594936708861, 0.8354430379746836]\n",
      "C: 0.1, Accuracy: 0.8271360759493671\n",
      "5-Fold results: [0.8625, 0.8670886075949367, 0.8987341772151899, 0.9493670886075949, 0.8924050632911392]\n",
      "C: 1, Accuracy: 0.8940189873417722\n",
      "5-Fold results: [0.86875, 0.8670886075949367, 0.9050632911392406, 0.9367088607594937, 0.879746835443038]\n",
      "C: 10, Accuracy: 0.8914715189873418\n",
      "5-Fold results: [0.88125, 0.8860759493670886, 0.8987341772151899, 0.9177215189873418, 0.879746835443038]\n",
      "C: 100, Accuracy: 0.8927056962025317\n",
      "5-Fold results: [0.85, 0.8734177215189873, 0.9050632911392406, 0.9050632911392406, 0.8924050632911392]\n",
      "C: 1000, Accuracy: 0.8851898734177215\n",
      "5-Fold results: [0.825, 0.879746835443038, 0.8987341772151899, 0.8924050632911392, 0.8670886075949367]\n",
      "C: 10000, Accuracy: 0.8725949367088607\n"
     ]
    },
    {
     "data": {
      "text/plain": [
       "[0.17170886075949368,\n",
       " 0.5252689873417722,\n",
       " 0.8271360759493671,\n",
       " 0.8940189873417722,\n",
       " 0.8914715189873418,\n",
       " 0.8927056962025317,\n",
       " 0.8851898734177215,\n",
       " 0.8725949367088607]"
      ]
     },
     "execution_count": 9,
     "metadata": {},
     "output_type": "execute_result"
    }
   ],
   "source": [
    "values=[0.001, 0.01, 0.1, 1, 10, 100, 1000, 10000]\n",
    "i=1\n",
    "results = pd.DataFrame(columns=[\"Index\", \"C\", \"Accuracy\"])\n",
    "mean_scores = []\n",
    "\n",
    "skf = StratifiedKFold(n_splits=5)\n",
    "\n",
    "for c in values:\n",
    "    scores = []\n",
    "    \n",
    "    for train_index, test_index in skf.split(X_train_relevant, y_train):\n",
    "\n",
    "        X_cv_train, X_cv_val = X_train_relevant.iloc[train_index], X_train_relevant.iloc[test_index]\n",
    "        y_cv_train, y_cv_val = y_train.iloc[train_index], y_train.iloc[test_index]\n",
    "\n",
    "        clf = LogisticRegression(random_state=0, solver='liblinear', penalty=\"l1\", C=c, multi_class=\"auto\").fit(X_cv_train, y_cv_train)\n",
    "        \n",
    "        score = clf.score(X_cv_val, y_cv_val)\n",
    "        results = results.append({'Fold': i, 'C' : c , 'Score' : score}, ignore_index=True)\n",
    "        scores.append(score)\n",
    "        i+=1\n",
    "        \n",
    "    i=1\n",
    "    mean_scores.append(np.mean(scores))\n",
    "    print('5-Fold results: {}'.format(scores))\n",
    "    print('C: {}, Accuracy: {}'.format(c, np.mean(scores)))\n",
    "        \n",
    "results.to_csv(\"parameter_tuning/logisticRegression_C_tuning_5k_chi2.csv\", index=False)\n",
    "mean_scores"
   ]
  },
  {
   "cell_type": "code",
   "execution_count": 10,
   "metadata": {},
   "outputs": [],
   "source": [
    "clf_5k = LogisticRegression(random_state=0, solver='liblinear', penalty=\"l1\", C=100, multi_class=\"auto\").fit(X_train_relevant, y_train)"
   ]
  },
  {
   "cell_type": "code",
   "execution_count": 11,
   "metadata": {},
   "outputs": [
    {
     "name": "stdout",
     "output_type": "stream",
     "text": [
      "Confusion matrix\n",
      " [[ 40   1   1   1]\n",
      " [  0  12   1   3]\n",
      " [  0   0 127   4]\n",
      " [  0   0  14  18]]\n",
      "Accuracy 0.8873873873873874\n"
     ]
    }
   ],
   "source": [
    "final_score = clf.score(X_test_relevant, y_test)\n",
    "print('Confusion matrix\\n', confusion_matrix(y_test, clf.predict(X_test_relevant)))\n",
    "print('Accuracy', final_score)"
   ]
  },
  {
   "cell_type": "code",
   "execution_count": 12,
   "metadata": {},
   "outputs": [
    {
     "data": {
      "image/png": "[encoded data removed]",
      "text/plain": [
       "<Figure size 648x432 with 2 Axes>"
      ]
     },
     "metadata": {
      "needs_background": "light"
     },
     "output_type": "display_data"
    }
   ],
   "source": [
    "#How do I know the order of the labels???\n",
    "import matplotlib.pyplot as plt\n",
    "conf_matrix = pd.DataFrame(confusion_matrix(y_test, clf.predict(X_test_relevant)), index = [\"Basal\", \"Her2\", \"LumA\", \"LumB\"], columns = [\"Basal\", \"Her2\", \"LumA\", \"LumB\"])\n",
    "plt.figure(figsize=(9, 6))\n",
    "sn.heatmap(conf_matrix, annot=True, fmt='g')\n",
    "conf_matrix.to_csv(\"results/tcga_log_res_confusion_matrix_5k_chi2.csv\")"
   ]
  },
  {
   "cell_type": "code",
   "execution_count": 13,
   "metadata": {},
   "outputs": [
    {
     "data": {
      "image/png": "[encoded data removed]",
      "text/plain": [
       "<Figure size 576x432 with 2 Axes>"
      ]
     },
     "metadata": {
      "needs_background": "light"
     },
     "output_type": "display_data"
    }
   ],
   "source": [
    "plot_confusion_matrix(cm           = confusion_matrix(y_test, clf.predict(X_test_relevant)), \n",
    "                      normalize    = False,\n",
    "                      target_names = [\"Basal\", \"Her2\", \"LumA\", \"LumB\"],\n",
    "                      title        = \"Confusion Matrix\")"
   ]
  },
  {
   "cell_type": "code",
   "execution_count": null,
   "metadata": {},
   "outputs": [],
   "source": []
  }
 ],
 "metadata": {
  "kernelspec": {
   "display_name": "Python 3",
   "language": "python",
   "name": "python3"
  }
 },
 "nbformat": 4,
 "nbformat_minor": 2
}
