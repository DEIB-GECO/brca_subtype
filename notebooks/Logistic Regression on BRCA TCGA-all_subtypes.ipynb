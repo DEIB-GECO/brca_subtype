{
 "cells": [
  {
   "cell_type": "markdown",
   "metadata": {},
   "source": [
    "# Logistic Regression on BRCA subset of the TCGA dataset\n",
    "#### Using Logistic Regression for breast cancer subtype classification"
   ]
  },
  {
   "cell_type": "code",
   "execution_count": 50,
   "metadata": {
    "collapsed": true
   },
   "outputs": [],
   "source": [
    "import pandas as pd\n",
    "import numpy as np\n",
    "\n",
    "from sklearn.preprocessing import MinMaxScaler, StandardScaler\n",
    "from sklearn.model_selection import train_test_split, StratifiedKFold\n",
    "from sklearn.linear_model import LogisticRegression\n",
    "from sklearn.feature_selection import VarianceThreshold, SelectKBest, chi2, mutual_info_classif\n",
    "from sklearn.model_selection import cross_val_score\n",
    "from sklearn.metrics import confusion_matrix\n",
    "\n",
    "import seaborn as sn\n",
    "import matplotlib.pyplot as plt"
   ]
  },
  {
   "cell_type": "markdown",
   "metadata": {},
   "source": [
    "## Load and split the dataset"
   ]
  },
  {
   "cell_type": "code",
   "execution_count": 2,
   "metadata": {},
   "outputs": [],
   "source": [
    "# Training set\n",
    "X_train = pd.read_pickle(\"../data/tcga_brca_raw_19036_row_log_norm_train.pkl\")\n",
    "y_train = X_train[\"Ciriello_subtype\"]\n",
    "X_train.drop(['tcga_id', 'Ciriello_subtype', 'sample_id', 'cancer_type'], axis=\"columns\", inplace=True)\n",
    "\n",
    "# Final test set\n",
    "X_test = pd.read_pickle(\"../data/tcga_brca_raw_19036_row_log_norm_test.pkl\")\n",
    "y_test = X_test[\"subtype\"]\n",
    "X_test.drop(['tcga_id', 'subtype', 'sample_id', 'cancer_type'], axis=\"columns\", inplace=True)\n",
    "\n",
    "# Order the features correctly\n",
    "\n",
    "X_train = X_train.reindex(sorted(X_train.columns), axis=\"columns\")\n",
    "X_test = X_test.reindex(sorted(X_test.columns), axis=\"columns\")"
   ]
  },
  {
   "cell_type": "code",
   "execution_count": 3,
   "metadata": {},
   "outputs": [
    {
     "data": {
      "text/plain": [
       "(817, 19036)"
      ]
     },
     "execution_count": 3,
     "metadata": {},
     "output_type": "execute_result"
    }
   ],
   "source": [
    "X_train.shape"
   ]
  },
  {
   "cell_type": "code",
   "execution_count": 4,
   "metadata": {},
   "outputs": [
    {
     "data": {
      "text/plain": [
       "(236, 19036)"
      ]
     },
     "execution_count": 4,
     "metadata": {},
     "output_type": "execute_result"
    }
   ],
   "source": [
    "X_test.shape"
   ]
  },
  {
   "cell_type": "markdown",
   "metadata": {},
   "source": [
    "### Scale the data"
   ]
  },
  {
   "cell_type": "code",
   "execution_count": 5,
   "metadata": {
    "collapsed": true
   },
   "outputs": [],
   "source": [
    "scaler = MinMaxScaler()\n",
    "scaler.fit(X_train)\n",
    "X_train_scaled = pd.DataFrame(scaler.transform(X_train), columns=X_train.columns)\n",
    "X_test_scaled = pd.DataFrame(scaler.transform(X_test), columns=X_test.columns)"
   ]
  },
  {
   "cell_type": "markdown",
   "metadata": {},
   "source": [
    "## Code to tune parameter C"
   ]
  },
  {
   "cell_type": "code",
   "execution_count": 6,
   "metadata": {},
   "outputs": [
    {
     "name": "stdout",
     "output_type": "stream",
     "text": [
      "Results: [0.1696969696969697, 0.1656441717791411, 0.1656441717791411, 0.1656441717791411, 0.1656441717791411]\n",
      "C: 0.001, Accuracy: 0.1664547313627068\n",
      "Results: [0.503030303030303, 0.50920245398773, 0.5153374233128835, 0.50920245398773, 0.50920245398773]\n",
      "C: 0.01, Accuracy: 0.5091950176612754\n",
      "Results: [0.8, 0.7975460122699386, 0.7975460122699386, 0.7852760736196319, 0.803680981595092]\n",
      "C: 0.1, Accuracy: 0.7968098159509202\n",
      "Results: [0.8545454545454545, 0.9079754601226994, 0.8957055214723927, 0.8404907975460123, 0.8773006134969326]\n",
      "C: 1, Accuracy: 0.8752035694366983\n",
      "Results: [0.9272727272727272, 0.8711656441717791, 0.852760736196319, 0.8895705521472392, 0.8773006134969326]\n",
      "C: 10, Accuracy: 0.8836140546569993\n",
      "Results: [0.8787878787878788, 0.8895705521472392, 0.8895705521472392, 0.8834355828220859, 0.8159509202453987]\n",
      "C: 100, Accuracy: 0.8714630972299684\n",
      "Results: [0.8303030303030303, 0.8159509202453987, 0.8834355828220859, 0.8588957055214724, 0.8957055214723927]\n",
      "C: 1000, Accuracy: 0.856858152072876\n",
      "Results: [0.8242424242424242, 0.8650306748466258, 0.8343558282208589, 0.8466257668711656, 0.8343558282208589]\n",
      "C: 10000, Accuracy: 0.8409221044803866\n"
     ]
    },
    {
     "data": {
      "text/plain": [
       "[0.1664547313627068,\n",
       " 0.5091950176612754,\n",
       " 0.7968098159509202,\n",
       " 0.8752035694366983,\n",
       " 0.8836140546569993,\n",
       " 0.8714630972299684,\n",
       " 0.856858152072876,\n",
       " 0.8409221044803866]"
      ]
     },
     "execution_count": 6,
     "metadata": {},
     "output_type": "execute_result"
    }
   ],
   "source": [
    "values=[0.001, 0.01, 0.1, 1, 10, 100, 1000, 10000]\n",
    "i=1\n",
    "results = pd.DataFrame(columns=[\"Index\", \"C\", \"Accuracy\"])\n",
    "mean_scores = []\n",
    "\n",
    "skf = StratifiedKFold(n_splits=5, shuffle=True)\n",
    "for c in values:\n",
    "    scores = []\n",
    "\n",
    "    for train_index, test_index in skf.split(X_train_scaled, y_train):\n",
    "\n",
    "        X_cv_train, X_cv_val = X_train_scaled.iloc[train_index], X_train_scaled.iloc[test_index]\n",
    "        y_cv_train, y_cv_val = y_train.iloc[train_index], y_train.iloc[test_index]\n",
    "\n",
    "        clf = LogisticRegression(random_state=0, solver='liblinear', penalty=\"l1\", C=c, multi_class=\"auto\").fit(X_cv_train, y_cv_train)\n",
    "\n",
    "        score = clf.score(X_cv_val, y_cv_val)\n",
    "        results = results.append({'Fold': i, 'C' : c , 'Score' : score}, ignore_index=True)\n",
    "        scores.append(score)\n",
    "        i+=1\n",
    "\n",
    "    i=1\n",
    "    mean_scores.append(np.mean(scores))\n",
    "    print('Results: {}'.format(scores))\n",
    "    print('C: {}, Accuracy: {}'.format(c, np.mean(scores)))\n",
    "\n",
    "#results.to_csv(\"parameter_tuning/LogisticRegression/tcga_c_tuning_all_genes.csv\", index=False)\n",
    "mean_scores"
   ]
  },
  {
   "cell_type": "markdown",
   "metadata": {},
   "source": [
    "### We can see that C=1 is the best parameter, hence why we'll use it to test our model"
   ]
  },
  {
   "cell_type": "code",
   "execution_count": 7,
   "metadata": {
    "collapsed": true
   },
   "outputs": [],
   "source": [
    "clf = LogisticRegression(random_state=0, solver='liblinear', penalty=\"l1\", C=1, multi_class=\"auto\").fit(X_train_scaled, y_train)"
   ]
  },
  {
   "cell_type": "code",
   "execution_count": 8,
   "metadata": {
    "scrolled": true
   },
   "outputs": [
    {
     "name": "stdout",
     "output_type": "stream",
     "text": [
      "Confusion matrix\n",
      " [[ 43   0   0   0   0]\n",
      " [  0  16   0   0   0]\n",
      " [  0   1 126   4   0]\n",
      " [  0   0   2  30   0]\n",
      " [  0   3   4   1   6]]\n",
      "Accuracy 0.9364406779661016\n"
     ]
    }
   ],
   "source": [
    "final_score = clf.score(X_test_scaled, y_test)\n",
    "print('Confusion matrix\\n', confusion_matrix(y_test, clf.predict(X_test_scaled)))\n",
    "print('Accuracy', final_score)"
   ]
  },
  {
   "cell_type": "code",
   "execution_count": 9,
   "metadata": {},
   "outputs": [
    {
     "data": {
      "text/plain": [
       "<matplotlib.axes._subplots.AxesSubplot at 0x7f874dc4ec18>"
      ]
     },
     "execution_count": 9,
     "metadata": {},
     "output_type": "execute_result"
    },
    {
     "data": {
      "image/png": "[encoded data removed]",
      "text/plain": [
       "<Figure size 648x432 with 2 Axes>"
      ]
     },
     "metadata": {
      "needs_background": "light"
     },
     "output_type": "display_data"
    }
   ],
   "source": [
    "import matplotlib.pyplot as plt\n",
    "conf_matrix = pd.DataFrame(confusion_matrix(y_test, clf.predict(X_test_scaled)))\n",
    "plt.figure(figsize=(9, 6))\n",
    "sn.heatmap(conf_matrix, annot=True, fmt='g')\n",
    "#conf_matrix.to_csv(\"results/LogisticRegression/tcga_confusion_matrix_all_genes.csv\")"
   ]
  },
  {
   "cell_type": "code",
   "execution_count": 12,
   "metadata": {},
   "outputs": [
    {
     "data": {
      "text/plain": [
       "LumA      131\n",
       "Basal      43\n",
       "LumB       32\n",
       "Her2       16\n",
       "Normal     14\n",
       "Name: subtype, dtype: int64"
      ]
     },
     "execution_count": 12,
     "metadata": {},
     "output_type": "execute_result"
    }
   ],
   "source": [
    "y_test.value_counts()"
   ]
  },
  {
   "cell_type": "markdown",
   "metadata": {},
   "source": [
    "## Get data for performance_curves"
   ]
  },
  {
   "cell_type": "code",
   "execution_count": 54,
   "metadata": {},
   "outputs": [
    {
     "name": "stdout",
     "output_type": "stream",
     "text": [
      "SPLIT 0\n",
      "Results: [0.8787878787878788, 0.8834355828220859, 0.8711656441717791, 0.8957055214723927, 0.8588957055214724]\n",
      "Accuracy: 0.8775980665551218\n",
      "SPLIT 1\n",
      "Results: [0.896969696969697, 0.8588957055214724, 0.8957055214723927, 0.8650306748466258, 0.8650306748466258]\n",
      "Accuracy: 0.8763264547313627\n",
      "SPLIT 2\n",
      "Results: [0.8121212121212121, 0.9141104294478528, 0.8588957055214724, 0.9079754601226994, 0.901840490797546]\n",
      "Accuracy: 0.8789886596021566\n",
      "SPLIT 3\n",
      "Results: [0.8727272727272727, 0.901840490797546, 0.8957055214723927, 0.852760736196319, 0.8650306748466258]\n",
      "Accuracy: 0.8776129392080312\n",
      "SPLIT 4\n",
      "Results: [0.9090909090909091, 0.8711656441717791, 0.901840490797546, 0.8773006134969326, 0.8404907975460123]\n",
      "Accuracy: 0.8799776910206358\n",
      "SPLIT 5\n",
      "Results: [0.8787878787878788, 0.8773006134969326, 0.8466257668711656, 0.9079754601226994, 0.8834355828220859]\n",
      "Accuracy: 0.8788250604201524\n",
      "SPLIT 6\n",
      "Results: [0.8424242424242424, 0.8650306748466258, 0.8588957055214724, 0.8895705521472392, 0.8588957055214724]\n",
      "Accuracy: 0.8629633760922106\n",
      "SPLIT 7\n",
      "Results: [0.8303030303030303, 0.852760736196319, 0.8957055214723927, 0.9202453987730062, 0.8834355828220859]\n",
      "Accuracy: 0.8764900539133669\n",
      "SPLIT 8\n",
      "Results: [0.8787878787878788, 0.8588957055214724, 0.8773006134969326, 0.8650306748466258, 0.901840490797546]\n",
      "Accuracy: 0.8763710726900911\n",
      "SPLIT 9\n",
      "Results: [0.9212121212121213, 0.8957055214723927, 0.8711656441717791, 0.8773006134969326, 0.8282208588957055]\n",
      "Accuracy: 0.8787209518497863\n"
     ]
    },
    {
     "name": "stderr",
     "output_type": "stream",
     "text": [
      "/home/cristovao/anaconda3/envs/thesis/lib/python3.7/site-packages/sklearn/model_selection/_split.py:2179: FutureWarning: From version 0.21, test_size will always complement train_size unless both are specified.\n",
      "  FutureWarning)\n",
      "/home/cristovao/anaconda3/envs/thesis/lib/python3.7/site-packages/pandas/core/frame.py:3940: SettingWithCopyWarning: \n",
      "A value is trying to be set on a copy of a slice from a DataFrame\n",
      "\n",
      "See the caveats in the documentation: http://pandas.pydata.org/pandas-docs/stable/indexing.html#indexing-view-versus-copy\n",
      "  errors=errors)\n"
     ]
    },
    {
     "name": "stdout",
     "output_type": "stream",
     "text": [
      "SPLIT 0\n",
      "Results: [0.8690476190476191, 0.8333333333333334, 0.8658536585365854, 0.8607594936708861, 0.8860759493670886]\n",
      "Accuracy: 0.8630140107911025\n",
      "SPLIT 1\n",
      "Results: [0.8928571428571429, 0.8690476190476191, 0.8536585365853658, 0.8987341772151899, 0.8481012658227848]\n",
      "Accuracy: 0.8724797483056204\n",
      "SPLIT 2\n",
      "Results: [0.8214285714285714, 0.8690476190476191, 0.8536585365853658, 0.8481012658227848, 0.8734177215189873]\n",
      "Accuracy: 0.8531307428806658\n",
      "SPLIT 3\n",
      "Results: [0.8333333333333334, 0.7738095238095238, 0.8780487804878049, 0.8607594936708861, 0.8607594936708861]\n",
      "Accuracy: 0.8413421249944868\n",
      "SPLIT 4\n",
      "Results: [0.8809523809523809, 0.8333333333333334, 0.8536585365853658, 0.8481012658227848, 0.7721518987341772]\n",
      "Accuracy: 0.8376394830856084\n",
      "SPLIT 5\n",
      "Results: [0.8809523809523809, 0.8928571428571429, 0.7682926829268293, 0.8860759493670886, 0.8481012658227848]\n",
      "Accuracy: 0.8552558843852452\n",
      "SPLIT 6\n",
      "Results: [0.8690476190476191, 0.8214285714285714, 0.8658536585365854, 0.8734177215189873, 0.8734177215189873]\n",
      "Accuracy: 0.8606330584101501\n",
      "SPLIT 7\n",
      "Results: [0.8690476190476191, 0.8452380952380952, 0.8536585365853658, 0.9240506329113924, 0.8607594936708861]\n",
      "Accuracy: 0.8705508754906717\n",
      "SPLIT 8\n",
      "Results: [0.8333333333333334, 0.9047619047619048, 0.7804878048780488, 0.8734177215189873, 0.8734177215189873]\n",
      "Accuracy: 0.8530836972022524\n",
      "SPLIT 9\n",
      "Results: [0.8928571428571429, 0.8333333333333334, 0.8658536585365854, 0.8860759493670886, 0.8734177215189873]\n",
      "Accuracy: 0.8703075611226275\n"
     ]
    },
    {
     "name": "stderr",
     "output_type": "stream",
     "text": [
      "/home/cristovao/anaconda3/envs/thesis/lib/python3.7/site-packages/sklearn/model_selection/_split.py:2179: FutureWarning: From version 0.21, test_size will always complement train_size unless both are specified.\n",
      "  FutureWarning)\n",
      "/home/cristovao/anaconda3/envs/thesis/lib/python3.7/site-packages/pandas/core/frame.py:3940: SettingWithCopyWarning: \n",
      "A value is trying to be set on a copy of a slice from a DataFrame\n",
      "\n",
      "See the caveats in the documentation: http://pandas.pydata.org/pandas-docs/stable/indexing.html#indexing-view-versus-copy\n",
      "  errors=errors)\n"
     ]
    },
    {
     "name": "stdout",
     "output_type": "stream",
     "text": [
      "SPLIT 0\n",
      "Results: [0.8372093023255814, 0.7560975609756098, 0.7804878048780488, 0.8536585365853658, 0.7894736842105263]\n",
      "Accuracy: 0.8033853777950265\n",
      "SPLIT 1\n",
      "Results: [0.7906976744186046, 0.8536585365853658, 0.7804878048780488, 0.7560975609756098, 0.7894736842105263]\n",
      "Accuracy: 0.7940830522136311\n",
      "SPLIT 2\n",
      "Results: [0.7674418604651163, 0.7073170731707317, 0.8536585365853658, 0.7804878048780488, 0.8157894736842105]\n",
      "Accuracy: 0.7849389497566946\n",
      "SPLIT 3\n",
      "Results: [0.813953488372093, 0.7317073170731707, 0.8048780487804879, 0.7804878048780488, 0.8421052631578947]\n",
      "Accuracy: 0.794626384452339\n",
      "SPLIT 4\n",
      "Results: [0.6976744186046512, 0.7560975609756098, 0.8292682926829268, 0.8780487804878049, 0.8947368421052632]\n",
      "Accuracy: 0.8111651789712511\n",
      "SPLIT 5\n",
      "Results: [0.8837209302325582, 0.7804878048780488, 0.7073170731707317, 0.8048780487804879, 0.868421052631579]\n",
      "Accuracy: 0.808964981938681\n",
      "SPLIT 6\n",
      "Results: [0.7906976744186046, 0.8292682926829268, 0.7804878048780488, 0.8048780487804879, 0.7631578947368421]\n",
      "Accuracy: 0.793697943099382\n",
      "SPLIT 7\n",
      "Results: [0.7674418604651163, 0.8536585365853658, 0.8536585365853658, 0.7560975609756098, 0.8157894736842105]\n",
      "Accuracy: 0.8093291936591337\n",
      "SPLIT 8\n",
      "Results: [0.813953488372093, 0.8048780487804879, 0.7560975609756098, 0.8292682926829268, 0.7631578947368421]\n",
      "Accuracy: 0.7934710571095919\n",
      "SPLIT 9\n",
      "Results: [0.7674418604651163, 0.8048780487804879, 0.8536585365853658, 0.8048780487804879, 0.7894736842105263]\n",
      "Accuracy: 0.8040660357643968\n"
     ]
    },
    {
     "name": "stderr",
     "output_type": "stream",
     "text": [
      "/home/cristovao/anaconda3/envs/thesis/lib/python3.7/site-packages/sklearn/model_selection/_split.py:2179: FutureWarning: From version 0.21, test_size will always complement train_size unless both are specified.\n",
      "  FutureWarning)\n",
      "/home/cristovao/anaconda3/envs/thesis/lib/python3.7/site-packages/pandas/core/frame.py:3940: SettingWithCopyWarning: \n",
      "A value is trying to be set on a copy of a slice from a DataFrame\n",
      "\n",
      "See the caveats in the documentation: http://pandas.pydata.org/pandas-docs/stable/indexing.html#indexing-view-versus-copy\n",
      "  errors=errors)\n",
      "/home/cristovao/anaconda3/envs/thesis/lib/python3.7/site-packages/sklearn/model_selection/_split.py:652: Warning: The least populated class in y has only 3 members, which is too few. The minimum number of members in any class cannot be less than n_splits=5.\n",
      "  % (min_groups, self.n_splits)), Warning)\n"
     ]
    },
    {
     "name": "stdout",
     "output_type": "stream",
     "text": [
      "SPLIT 0\n",
      "Results: [0.7391304347826086, 0.7727272727272727, 0.85, 0.8333333333333334, 0.7894736842105263]\n",
      "Accuracy: 0.7969329450107482\n",
      "SPLIT 1\n"
     ]
    },
    {
     "name": "stderr",
     "output_type": "stream",
     "text": [
      "/home/cristovao/anaconda3/envs/thesis/lib/python3.7/site-packages/sklearn/model_selection/_split.py:652: Warning: The least populated class in y has only 3 members, which is too few. The minimum number of members in any class cannot be less than n_splits=5.\n",
      "  % (min_groups, self.n_splits)), Warning)\n"
     ]
    },
    {
     "name": "stdout",
     "output_type": "stream",
     "text": [
      "Results: [0.8636363636363636, 0.782608695652174, 0.85, 0.7222222222222222, 0.7368421052631579]\n",
      "Accuracy: 0.7910618773547836\n",
      "SPLIT 2\n"
     ]
    },
    {
     "name": "stderr",
     "output_type": "stream",
     "text": [
      "/home/cristovao/anaconda3/envs/thesis/lib/python3.7/site-packages/sklearn/model_selection/_split.py:652: Warning: The least populated class in y has only 3 members, which is too few. The minimum number of members in any class cannot be less than n_splits=5.\n",
      "  % (min_groups, self.n_splits)), Warning)\n"
     ]
    },
    {
     "name": "stdout",
     "output_type": "stream",
     "text": [
      "Results: [0.8636363636363636, 0.7391304347826086, 0.8, 0.7894736842105263, 0.8888888888888888]\n",
      "Accuracy: 0.8162258743036777\n",
      "SPLIT 3\n"
     ]
    },
    {
     "name": "stderr",
     "output_type": "stream",
     "text": [
      "/home/cristovao/anaconda3/envs/thesis/lib/python3.7/site-packages/sklearn/model_selection/_split.py:652: Warning: The least populated class in y has only 3 members, which is too few. The minimum number of members in any class cannot be less than n_splits=5.\n",
      "  % (min_groups, self.n_splits)), Warning)\n"
     ]
    },
    {
     "name": "stdout",
     "output_type": "stream",
     "text": [
      "Results: [0.782608695652174, 0.7272727272727273, 0.75, 0.8421052631578947, 0.8888888888888888]\n",
      "Accuracy: 0.798175114994337\n",
      "SPLIT 4\n"
     ]
    },
    {
     "name": "stderr",
     "output_type": "stream",
     "text": [
      "/home/cristovao/anaconda3/envs/thesis/lib/python3.7/site-packages/sklearn/model_selection/_split.py:652: Warning: The least populated class in y has only 3 members, which is too few. The minimum number of members in any class cannot be less than n_splits=5.\n",
      "  % (min_groups, self.n_splits)), Warning)\n"
     ]
    },
    {
     "name": "stdout",
     "output_type": "stream",
     "text": [
      "Results: [0.782608695652174, 0.8181818181818182, 0.75, 0.8888888888888888, 0.7894736842105263]\n",
      "Accuracy: 0.8058306173866814\n",
      "SPLIT 5\n"
     ]
    },
    {
     "name": "stderr",
     "output_type": "stream",
     "text": [
      "/home/cristovao/anaconda3/envs/thesis/lib/python3.7/site-packages/sklearn/model_selection/_split.py:652: Warning: The least populated class in y has only 3 members, which is too few. The minimum number of members in any class cannot be less than n_splits=5.\n",
      "  % (min_groups, self.n_splits)), Warning)\n"
     ]
    },
    {
     "name": "stdout",
     "output_type": "stream",
     "text": [
      "Results: [0.8181818181818182, 0.8636363636363636, 0.7, 0.6842105263157895, 0.7894736842105263]\n",
      "Accuracy: 0.7711004784688995\n",
      "SPLIT 6\n"
     ]
    },
    {
     "name": "stderr",
     "output_type": "stream",
     "text": [
      "/home/cristovao/anaconda3/envs/thesis/lib/python3.7/site-packages/sklearn/model_selection/_split.py:652: Warning: The least populated class in y has only 3 members, which is too few. The minimum number of members in any class cannot be less than n_splits=5.\n",
      "  % (min_groups, self.n_splits)), Warning)\n"
     ]
    },
    {
     "name": "stdout",
     "output_type": "stream",
     "text": [
      "Results: [0.8636363636363636, 0.6956521739130435, 0.65, 0.8421052631578947, 0.7777777777777778]\n",
      "Accuracy: 0.7658343156970159\n",
      "SPLIT 7\n"
     ]
    },
    {
     "name": "stderr",
     "output_type": "stream",
     "text": [
      "/home/cristovao/anaconda3/envs/thesis/lib/python3.7/site-packages/sklearn/model_selection/_split.py:652: Warning: The least populated class in y has only 3 members, which is too few. The minimum number of members in any class cannot be less than n_splits=5.\n",
      "  % (min_groups, self.n_splits)), Warning)\n"
     ]
    },
    {
     "name": "stdout",
     "output_type": "stream",
     "text": [
      "Results: [0.7391304347826086, 0.8636363636363636, 0.75, 0.8333333333333334, 0.8421052631578947]\n",
      "Accuracy: 0.8056410789820401\n",
      "SPLIT 8\n"
     ]
    },
    {
     "name": "stderr",
     "output_type": "stream",
     "text": [
      "/home/cristovao/anaconda3/envs/thesis/lib/python3.7/site-packages/sklearn/model_selection/_split.py:652: Warning: The least populated class in y has only 3 members, which is too few. The minimum number of members in any class cannot be less than n_splits=5.\n",
      "  % (min_groups, self.n_splits)), Warning)\n"
     ]
    },
    {
     "name": "stdout",
     "output_type": "stream",
     "text": [
      "Results: [0.782608695652174, 0.7391304347826086, 0.8421052631578947, 0.6842105263157895, 0.8888888888888888]\n",
      "Accuracy: 0.7873887617594711\n",
      "SPLIT 9\n"
     ]
    },
    {
     "name": "stderr",
     "output_type": "stream",
     "text": [
      "/home/cristovao/anaconda3/envs/thesis/lib/python3.7/site-packages/sklearn/model_selection/_split.py:652: Warning: The least populated class in y has only 3 members, which is too few. The minimum number of members in any class cannot be less than n_splits=5.\n",
      "  % (min_groups, self.n_splits)), Warning)\n"
     ]
    },
    {
     "name": "stdout",
     "output_type": "stream",
     "text": [
      "Results: [0.7391304347826086, 0.782608695652174, 0.6842105263157895, 0.7894736842105263, 0.8333333333333334]\n",
      "Accuracy: 0.7657513348588864\n"
     ]
    }
   ],
   "source": [
    "random_gen = [10, 50, 23, 42, 4, 6, 43, 75, 22, 1]\n",
    "data_percent = [1, 0.5, 0.25, 0.125]\n",
    "i=1\n",
    "\n",
    "for percent in data_percent:\n",
    "    X_train_full = pd.read_pickle(\"../data/tcga_brca_raw_19036_row_log_norm_train.pkl\")\n",
    "    # Training set\n",
    "    \n",
    "    if percent<1:\n",
    "        X_train, trash = train_test_split(X_train_full, train_size=percent, stratify=X_train_full[\"Ciriello_subtype\"], shuffle=True)\n",
    "    else:\n",
    "        X_train = X_train_full\n",
    "        \n",
    "    y_train = X_train[\"Ciriello_subtype\"]\n",
    "    X_train.drop(['tcga_id', 'Ciriello_subtype', 'sample_id', 'cancer_type'], axis=\"columns\", inplace=True)\n",
    "\n",
    "    # Order the features correctly\n",
    "    X_train = X_train.reindex(sorted(X_train.columns), axis=\"columns\")\n",
    "    \n",
    "    scaler = MinMaxScaler()\n",
    "    scaler.fit(X_train)\n",
    "    X_train_scaled = pd.DataFrame(scaler.transform(X_train), columns=X_train.columns)\n",
    "\n",
    "    for s_index in range(10):\n",
    "        print(\"SPLIT {}\".format(s_index))\n",
    "        \n",
    "        results_df = pd.DataFrame(columns=[\"Fold\", \"Accuracy\"])\n",
    "        # Using different seeds for each fold\n",
    "        skf = StratifiedKFold(n_splits=5, shuffle=True, random_state=random_gen[s_index])\n",
    "        scores = []\n",
    "\n",
    "        for train_index, test_index in skf.split(X_train_scaled, y_train):\n",
    "\n",
    "            X_cv_train, X_cv_val = X_train_scaled.iloc[train_index], X_train_scaled.iloc[test_index]\n",
    "            y_cv_train, y_cv_val = y_train.iloc[train_index], y_train.iloc[test_index]\n",
    "\n",
    "            clf = LogisticRegression(random_state=0, solver='liblinear', penalty=\"l1\", C=1, multi_class=\"auto\").fit(X_cv_train, y_cv_train)\n",
    "\n",
    "            score = clf.score(X_cv_val, y_cv_val)\n",
    "            results_df = results_df.append({'Fold': i, 'Accuracy' : score}, ignore_index=True)\n",
    "            scores.append(score)\n",
    "            i+=1\n",
    "        \n",
    "        i=1 \n",
    "        results_df = results_df.assign(mean_accuracy=np.mean(scores))\n",
    "        print('Results: {}'.format(scores))\n",
    "        print('Accuracy: {}'.format(np.mean(scores)))\n",
    "\n",
    "        output_filename=\"../results/performance_curves/logistic_regression/{}_brca_data_split_{}_classifier.csv\".format(percent, s_index)\n",
    "        results_df.to_csv(output_filename)"
   ]
  },
  {
   "cell_type": "code",
   "execution_count": null,
   "metadata": {
    "collapsed": true
   },
   "outputs": [],
   "source": []
  }
 ],
 "metadata": {
  "kernelspec": {
   "display_name": "thesis",
   "language": "python",
   "name": "thesis"
  },
  "language_info": {
   "codemirror_mode": {
    "name": "ipython",
    "version": 3
   },
   "file_extension": ".py",
   "mimetype": "text/x-python",
   "name": "python",
   "nbconvert_exporter": "python",
   "pygments_lexer": "ipython3",
   "version": "3.7.3"
  }
 },
 "nbformat": 4,
 "nbformat_minor": 2
}
